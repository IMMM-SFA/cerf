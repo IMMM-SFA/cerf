{
 "cells": [
  {
   "cell_type": "markdown",
   "id": "aa4213f4-48ab-4e26-a961-ba3eed63db87",
   "metadata": {},
   "source": [
    "## Prepare distance to infrastructure data"
   ]
  },
  {
   "cell_type": "markdown",
   "id": "d5bc4012-b812-421d-b294-463591eab872",
   "metadata": {},
   "source": [
    "`cerf` provides two different options for calculating the distance to near suitable transmission infrastructure: \n",
    "\n",
    "1. Get the distance to the nearest substation and gas pipeline within the utility zone in which the power plant is being sited.\n",
    "\n",
    "2. Get the distance to the nearest substation and gas pipeline regardless of whether or not they are within the utility zone in which the power plant is being sited.\n"
   ]
  },
  {
   "cell_type": "markdown",
   "id": "82f7dbba-13b7-4a30-96dc-76127fa63fdc",
   "metadata": {},
   "source": [
    "## Explore some of the package data"
   ]
  },
  {
   "cell_type": "markdown",
   "id": "835c606a-711b-4004-bf60-5413f3e66818",
   "metadata": {},
   "source": [
    "##### View a data frame of the sample LMP data"
   ]
  },
  {
   "cell_type": "code",
   "execution_count": null,
   "id": "50edd67e-8d6c-4a35-a305-6dff8c13cc84",
   "metadata": {},
   "outputs": [],
   "source": [
    "lmp_df = cerf.generate_random_lmp_dataframe()\n",
    "\n",
    "lmp_df.head()\n"
   ]
  },
  {
   "cell_type": "markdown",
   "id": "d37cb791-75e8-45c0-92be-2a5afd4c953f",
   "metadata": {},
   "source": [
    "##### View the available suitability raster files contained in the package"
   ]
  },
  {
   "cell_type": "code",
   "execution_count": null,
   "id": "f8066cea-0e6c-4662-92e6-d6e8666f99d2",
   "metadata": {},
   "outputs": [],
   "source": [
    "suitability_file_list = cerf.list_available_suitability_files()\n",
    "\n",
    "suitability_file_list\n"
   ]
  },
  {
   "cell_type": "markdown",
   "id": "847cd5c9-577d-4491-8251-b6734b7450e6",
   "metadata": {},
   "source": [
    "##### View the sample configuration file for year 2010 as a dictionary"
   ]
  },
  {
   "cell_type": "code",
   "execution_count": null,
   "id": "356f1ecc-5023-462d-a53e-93fd12fd3026",
   "metadata": {},
   "outputs": [],
   "source": [
    "config_file = cerf.load_sample_config(yr=2010)\n",
    "\n",
    "config_file\n"
   ]
  },
  {
   "cell_type": "markdown",
   "id": "36f064b0-6fa7-408a-b7ee-d9a7d05e2544",
   "metadata": {},
   "source": [
    "##### Get the file name containing the sample utility zones raster"
   ]
  },
  {
   "cell_type": "code",
   "execution_count": null,
   "id": "cd4b4dc1-c843-4ca9-a2ba-89b4e63e0243",
   "metadata": {},
   "outputs": [],
   "source": [
    "zones_file = cerf.sample_utility_zones_raster_file()\n",
    "\n",
    "zones_file\n"
   ]
  }
 ],
 "metadata": {
  "kernelspec": {
   "display_name": "py3.9.4_cerf",
   "language": "python",
   "name": "py3.9.4_cerf"
  },
  "language_info": {
   "codemirror_mode": {
    "name": "ipython",
    "version": 3
   },
   "file_extension": ".py",
   "mimetype": "text/x-python",
   "name": "python",
   "nbconvert_exporter": "python",
   "pygments_lexer": "ipython3",
   "version": "3.9.4"
  }
 },
 "nbformat": 4,
 "nbformat_minor": 5
}
