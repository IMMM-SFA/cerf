{
 "cells": [
  {
   "cell_type": "markdown",
   "id": "aa4213f4-48ab-4e26-a961-ba3eed63db87",
   "metadata": {},
   "source": [
    "## Prepare distance to infrastructure data"
   ]
  },
  {
   "cell_type": "markdown",
   "id": "d5bc4012-b812-421d-b294-463591eab872",
   "metadata": {},
   "source": [
    "`cerf` provides two different options for calculating the distance to near suitable transmission infrastructure: \n",
    "\n",
    "1. Get the distance to the nearest substation and gas pipeline within the utility zone in which the power plant is being sited.\n",
    "\n",
    "2. Get the distance to the nearest substation and gas pipeline regardless of whether or not they are within the utility zone in which the power plant is being sited.\n"
   ]
  },
  {
   "cell_type": "markdown",
   "id": "82f7dbba-13b7-4a30-96dc-76127fa63fdc",
   "metadata": {},
   "source": [
    "## Explore some of the package data"
   ]
  },
  {
   "cell_type": "markdown",
   "id": "835c606a-711b-4004-bf60-5413f3e66818",
   "metadata": {},
   "source": [
    "##### View a data frame of the sample LMP data"
   ]
  },
  {
   "cell_type": "code",
   "execution_count": null,
   "id": "50edd67e-8d6c-4a35-a305-6dff8c13cc84",
   "metadata": {},
   "outputs": [],
   "source": [
    "lmp_df = cerf.generate_random_lmp_dataframe()\n",
    "\n",
    "lmp_df.head()\n"
   ]
  },
  {
   "cell_type": "markdown",
   "id": "d37cb791-75e8-45c0-92be-2a5afd4c953f",
   "metadata": {},
   "source": [
    "##### View the available suitability raster files contained in the package"
   ]
  },
  {
   "cell_type": "code",
   "execution_count": null,
   "id": "f8066cea-0e6c-4662-92e6-d6e8666f99d2",
   "metadata": {},
   "outputs": [],
   "source": [
    "suitability_file_list = cerf.list_available_suitability_files()\n",
    "\n",
    "suitability_file_list\n"
   ]
  },
  {
   "cell_type": "markdown",
   "id": "847cd5c9-577d-4491-8251-b6734b7450e6",
   "metadata": {},
   "source": [
    "##### View the sample configuration file for year 2010 as a dictionary"
   ]
  },
  {
   "cell_type": "code",
   "execution_count": null,
   "id": "356f1ecc-5023-462d-a53e-93fd12fd3026",
   "metadata": {},
   "outputs": [],
   "source": [
    "config_file = cerf.load_sample_config(yr=2010)\n",
    "\n",
    "config_file\n"
   ]
  },
  {
   "cell_type": "markdown",
   "id": "36f064b0-6fa7-408a-b7ee-d9a7d05e2544",
   "metadata": {},
   "source": [
    "##### Get the file name containing the sample utility zones raster"
   ]
  },
  {
   "cell_type": "code",
   "execution_count": null,
   "id": "cd4b4dc1-c843-4ca9-a2ba-89b4e63e0243",
   "metadata": {},
   "outputs": [],
   "source": [
    "zones_file = cerf.sample_utility_zones_raster_file()\n",
    "\n",
    "zones_file\n"
   ]
  },
  {
   "cell_type": "code",
   "execution_count": null,
   "id": "e23ea241-719d-454c-ab6d-d5af126eff81",
   "metadata": {},
   "outputs": [],
   "source": []
  },
  {
   "cell_type": "code",
   "execution_count": 3,
   "id": "70772f10-6a0d-40b3-86a5-4a8b7d0a4eac",
   "metadata": {},
   "outputs": [],
   "source": [
    "import logging\n",
    "import pkg_resources\n",
    "\n",
    "import numpy as np\n",
    "import pandas as pd\n",
    "\n",
    "import cerf\n"
   ]
  },
  {
   "cell_type": "code",
   "execution_count": 4,
   "id": "a153c7bd-f860-447d-8c2c-34d3b2afab3a",
   "metadata": {},
   "outputs": [],
   "source": [
    "f = pkg_resources.resource_filename('cerf', 'data/illustrative_lmp_8760-per-zone_dollars-per-mwh.zip')"
   ]
  },
  {
   "cell_type": "code",
   "execution_count": 58,
   "id": "63789735-75db-416e-a4ff-aaa7037cb96c",
   "metadata": {},
   "outputs": [
    {
     "data": {
      "text/plain": [
       "'/Users/d3y010/repos/github/cerf/cerf/data/illustrative_lmp_8760-per-zone_dollars-per-mwh.zip'"
      ]
     },
     "execution_count": 58,
     "metadata": {},
     "output_type": "execute_result"
    }
   ],
   "source": [
    "f"
   ]
  },
  {
   "cell_type": "code",
   "execution_count": 59,
   "id": "a2e1fed3-17c1-4794-b3a3-0cec3a035eae",
   "metadata": {},
   "outputs": [],
   "source": [
    "rng = np.arange(0.1, 100.0, 0.1)\n",
    "\n",
    "df = pd.read_csv(f)\n",
    "\n",
    "for i in range(1, 58):\n",
    "    \n",
    "    s = str(i)\n",
    "    \n",
    "    df[s] = df[s] + np.random.choice(rng)\n",
    "    \n",
    "df.to_csv('/Users/d3y010/repos/github/cerf/cerf/data/illustrative_lmp_8760-per-zone_dollars-per-mwh.csv', index=False)"
   ]
  },
  {
   "cell_type": "code",
   "execution_count": 55,
   "id": "7d28d542-2cdb-4caf-82d4-519e261d52b1",
   "metadata": {},
   "outputs": [
    {
     "data": {
      "text/html": [
       "<div>\n",
       "<style scoped>\n",
       "    .dataframe tbody tr th:only-of-type {\n",
       "        vertical-align: middle;\n",
       "    }\n",
       "\n",
       "    .dataframe tbody tr th {\n",
       "        vertical-align: top;\n",
       "    }\n",
       "\n",
       "    .dataframe thead th {\n",
       "        text-align: right;\n",
       "    }\n",
       "</style>\n",
       "<table border=\"1\" class=\"dataframe\">\n",
       "  <thead>\n",
       "    <tr style=\"text-align: right;\">\n",
       "      <th></th>\n",
       "      <th>hour</th>\n",
       "      <th>1</th>\n",
       "      <th>2</th>\n",
       "      <th>3</th>\n",
       "      <th>4</th>\n",
       "      <th>5</th>\n",
       "      <th>6</th>\n",
       "      <th>7</th>\n",
       "      <th>8</th>\n",
       "      <th>9</th>\n",
       "      <th>...</th>\n",
       "      <th>48</th>\n",
       "      <th>49</th>\n",
       "      <th>50</th>\n",
       "      <th>51</th>\n",
       "      <th>52</th>\n",
       "      <th>53</th>\n",
       "      <th>54</th>\n",
       "      <th>55</th>\n",
       "      <th>56</th>\n",
       "      <th>57</th>\n",
       "    </tr>\n",
       "  </thead>\n",
       "  <tbody>\n",
       "    <tr>\n",
       "      <th>0</th>\n",
       "      <td>1</td>\n",
       "      <td>114.421922</td>\n",
       "      <td>194.776176</td>\n",
       "      <td>119.763664</td>\n",
       "      <td>236.492993</td>\n",
       "      <td>296.551151</td>\n",
       "      <td>380.200100</td>\n",
       "      <td>225.272673</td>\n",
       "      <td>505.472072</td>\n",
       "      <td>40.917417</td>\n",
       "      <td>...</td>\n",
       "      <td>110.203804</td>\n",
       "      <td>121.140641</td>\n",
       "      <td>229.079980</td>\n",
       "      <td>149.031732</td>\n",
       "      <td>50.487688</td>\n",
       "      <td>178.611512</td>\n",
       "      <td>577.054454</td>\n",
       "      <td>143.450751</td>\n",
       "      <td>225.524324</td>\n",
       "      <td>134.104204</td>\n",
       "    </tr>\n",
       "    <tr>\n",
       "      <th>1</th>\n",
       "      <td>2</td>\n",
       "      <td>240.518018</td>\n",
       "      <td>71.723123</td>\n",
       "      <td>120.524424</td>\n",
       "      <td>252.278779</td>\n",
       "      <td>185.336937</td>\n",
       "      <td>180.632533</td>\n",
       "      <td>280.237638</td>\n",
       "      <td>579.893493</td>\n",
       "      <td>122.318819</td>\n",
       "      <td>...</td>\n",
       "      <td>450.063664</td>\n",
       "      <td>86.145646</td>\n",
       "      <td>171.832733</td>\n",
       "      <td>120.883584</td>\n",
       "      <td>217.855055</td>\n",
       "      <td>252.405305</td>\n",
       "      <td>227.831231</td>\n",
       "      <td>276.258559</td>\n",
       "      <td>89.348148</td>\n",
       "      <td>158.638739</td>\n",
       "    </tr>\n",
       "    <tr>\n",
       "      <th>2</th>\n",
       "      <td>3</td>\n",
       "      <td>116.514014</td>\n",
       "      <td>83.895295</td>\n",
       "      <td>218.282182</td>\n",
       "      <td>371.667167</td>\n",
       "      <td>221.853453</td>\n",
       "      <td>144.686587</td>\n",
       "      <td>286.513914</td>\n",
       "      <td>525.960561</td>\n",
       "      <td>221.217718</td>\n",
       "      <td>...</td>\n",
       "      <td>221.845445</td>\n",
       "      <td>177.627127</td>\n",
       "      <td>98.229129</td>\n",
       "      <td>227.580280</td>\n",
       "      <td>83.961161</td>\n",
       "      <td>136.959860</td>\n",
       "      <td>496.004404</td>\n",
       "      <td>127.094394</td>\n",
       "      <td>202.130931</td>\n",
       "      <td>102.152252</td>\n",
       "    </tr>\n",
       "    <tr>\n",
       "      <th>3</th>\n",
       "      <td>4</td>\n",
       "      <td>178.516016</td>\n",
       "      <td>151.032432</td>\n",
       "      <td>222.466366</td>\n",
       "      <td>249.235736</td>\n",
       "      <td>83.394995</td>\n",
       "      <td>76.027928</td>\n",
       "      <td>129.797197</td>\n",
       "      <td>241.220821</td>\n",
       "      <td>506.421922</td>\n",
       "      <td>...</td>\n",
       "      <td>282.516116</td>\n",
       "      <td>106.495996</td>\n",
       "      <td>273.964865</td>\n",
       "      <td>230.242943</td>\n",
       "      <td>169.546747</td>\n",
       "      <td>234.527427</td>\n",
       "      <td>124.557958</td>\n",
       "      <td>161.899199</td>\n",
       "      <td>217.155956</td>\n",
       "      <td>140.570671</td>\n",
       "    </tr>\n",
       "    <tr>\n",
       "      <th>4</th>\n",
       "      <td>5</td>\n",
       "      <td>275.700200</td>\n",
       "      <td>130.491892</td>\n",
       "      <td>231.405305</td>\n",
       "      <td>164.791291</td>\n",
       "      <td>78.830430</td>\n",
       "      <td>135.747648</td>\n",
       "      <td>269.967367</td>\n",
       "      <td>279.258859</td>\n",
       "      <td>274.118619</td>\n",
       "      <td>...</td>\n",
       "      <td>187.230831</td>\n",
       "      <td>207.296797</td>\n",
       "      <td>197.128028</td>\n",
       "      <td>117.840541</td>\n",
       "      <td>169.356557</td>\n",
       "      <td>381.765666</td>\n",
       "      <td>476.721121</td>\n",
       "      <td>101.989289</td>\n",
       "      <td>201.560360</td>\n",
       "      <td>158.638739</td>\n",
       "    </tr>\n",
       "  </tbody>\n",
       "</table>\n",
       "<p>5 rows × 58 columns</p>\n",
       "</div>"
      ],
      "text/plain": [
       "   hour           1           2           3           4           5  \\\n",
       "0     1  114.421922  194.776176  119.763664  236.492993  296.551151   \n",
       "1     2  240.518018   71.723123  120.524424  252.278779  185.336937   \n",
       "2     3  116.514014   83.895295  218.282182  371.667167  221.853453   \n",
       "3     4  178.516016  151.032432  222.466366  249.235736   83.394995   \n",
       "4     5  275.700200  130.491892  231.405305  164.791291   78.830430   \n",
       "\n",
       "            6           7           8           9  ...          48  \\\n",
       "0  380.200100  225.272673  505.472072   40.917417  ...  110.203804   \n",
       "1  180.632533  280.237638  579.893493  122.318819  ...  450.063664   \n",
       "2  144.686587  286.513914  525.960561  221.217718  ...  221.845445   \n",
       "3   76.027928  129.797197  241.220821  506.421922  ...  282.516116   \n",
       "4  135.747648  269.967367  279.258859  274.118619  ...  187.230831   \n",
       "\n",
       "           49          50          51          52          53          54  \\\n",
       "0  121.140641  229.079980  149.031732   50.487688  178.611512  577.054454   \n",
       "1   86.145646  171.832733  120.883584  217.855055  252.405305  227.831231   \n",
       "2  177.627127   98.229129  227.580280   83.961161  136.959860  496.004404   \n",
       "3  106.495996  273.964865  230.242943  169.546747  234.527427  124.557958   \n",
       "4  207.296797  197.128028  117.840541  169.356557  381.765666  476.721121   \n",
       "\n",
       "           55          56          57  \n",
       "0  143.450751  225.524324  134.104204  \n",
       "1  276.258559   89.348148  158.638739  \n",
       "2  127.094394  202.130931  102.152252  \n",
       "3  161.899199  217.155956  140.570671  \n",
       "4  101.989289  201.560360  158.638739  \n",
       "\n",
       "[5 rows x 58 columns]"
      ]
     },
     "execution_count": 55,
     "metadata": {},
     "output_type": "execute_result"
    }
   ],
   "source": [
    "df.head()"
   ]
  },
  {
   "cell_type": "code",
   "execution_count": 57,
   "id": "face7fa7-38d2-4431-9a48-8669c06e2091",
   "metadata": {},
   "outputs": [
    {
     "data": {
      "text/plain": [
       "hour      1.0\n",
       "1        62.5\n",
       "2        58.6\n",
       "3        86.1\n",
       "4        73.5\n",
       "5        48.4\n",
       "6        28.1\n",
       "7       102.6\n",
       "8        90.4\n",
       "9        33.5\n",
       "10       46.1\n",
       "11       58.0\n",
       "12       94.5\n",
       "13       35.1\n",
       "14       92.6\n",
       "15       13.2\n",
       "16       41.5\n",
       "17       87.1\n",
       "18       96.5\n",
       "19       58.1\n",
       "20       73.8\n",
       "21       22.3\n",
       "22       70.8\n",
       "23       50.2\n",
       "24      103.7\n",
       "25       64.3\n",
       "26       24.6\n",
       "27       28.2\n",
       "28       74.2\n",
       "29       80.6\n",
       "30       13.2\n",
       "31       10.2\n",
       "32       20.2\n",
       "33       99.4\n",
       "34       74.5\n",
       "35      109.0\n",
       "36       29.2\n",
       "37       91.4\n",
       "38       86.1\n",
       "39       73.4\n",
       "40       65.1\n",
       "41       73.6\n",
       "42       37.5\n",
       "43       81.4\n",
       "44       53.3\n",
       "45       86.9\n",
       "46       14.1\n",
       "47       25.4\n",
       "48      106.4\n",
       "49       40.5\n",
       "50       89.1\n",
       "51       97.3\n",
       "52       32.8\n",
       "53      107.1\n",
       "54       96.6\n",
       "55       72.7\n",
       "56       61.2\n",
       "57       79.9\n",
       "dtype: float64"
      ]
     },
     "execution_count": 57,
     "metadata": {},
     "output_type": "execute_result"
    }
   ],
   "source": [
    "df.min()"
   ]
  },
  {
   "cell_type": "code",
   "execution_count": null,
   "id": "fd3d4b9a-8396-47b9-b4e3-0a2ad828d29b",
   "metadata": {},
   "outputs": [],
   "source": []
  },
  {
   "cell_type": "code",
   "execution_count": null,
   "id": "776dbd16-754f-46f9-9eb4-7091c169c6a9",
   "metadata": {},
   "outputs": [],
   "source": []
  },
  {
   "cell_type": "code",
   "execution_count": null,
   "id": "4d3f747b-b6d6-4f47-99a5-8598d3deb3fd",
   "metadata": {},
   "outputs": [],
   "source": []
  },
  {
   "cell_type": "code",
   "execution_count": null,
   "id": "c2f28b9f-bb55-468b-be3c-07135e45391e",
   "metadata": {},
   "outputs": [],
   "source": []
  },
  {
   "cell_type": "code",
   "execution_count": null,
   "id": "57dd389b-cd20-4993-869b-1a453e5c6646",
   "metadata": {},
   "outputs": [],
   "source": []
  },
  {
   "cell_type": "code",
   "execution_count": null,
   "id": "d577c1ae-a5d0-4faa-bd65-9472e2dfc927",
   "metadata": {},
   "outputs": [],
   "source": [
    "# number of technologies\n",
    "n_technologies = len(self.technology_dict)\n",
    "\n",
    "lmp_arr = np.zeros(shape=(n_technologies, self.zones_arr.shape[0], self.zones_arr.shape[1]))\n",
    "\n",
    "for index, i in enumerate(self.technology_order):\n",
    "\n",
    "    # assign the correct LMP based on the capacity factor of the technology\n",
    "    start_index, through_index = self.get_cf_bin(self.technology_dict[i]['capacity_factor'])\n",
    "\n",
    "    # get the LMP file for the technology from the configuration file\n",
    "    lmp_file = self.technology_dict[i].get('utility_zone_lmp_file', None)\n",
    "\n",
    "    # use illustrative default if none provided\n",
    "    if lmp_file == \"None\":\n",
    "\n",
    "        # default illustrative LMP file\n",
    "        lmp_file = pkg_resources.resource_filename('cerf', 'data/illustrative_lmp_8760-per-zone_dollars-per-mwh.zip')\n",
    "\n",
    "        # generate a random multiplier to change the data up to positive 30 percent per tech\n",
    "        modify_percent = np.random.choice(np.arange(1.01, 1.3, 0.01))\n",
    "\n",
    "        # apply to lmp data frame\n",
    "        lmp_df = pd.read_csv(lmp_file) * modify_percent\n",
    "\n",
    "        logging.info(f\"Using LMP from default illustrative package data for {self.technology_dict[i]['tech_name']}\")\n",
    "\n",
    "    else:\n",
    "        logging.info(f\"Using LMP file for {self.technology_dict[i]['tech_name']}:  {lmp_file}\")\n",
    "        lmp_df = pd.read_csv(lmp_file)\n",
    "\n",
    "    # make a copy of the data frame\n",
    "    df_sorted = lmp_df.copy()\n",
    "    df_sorted.drop('hour', axis=1, inplace=True)\n",
    "\n",
    "    # sort by descending lmp for each zone\n",
    "    for i in df_sorted.columns:\n",
    "        df_sorted[i] = df_sorted[i].sort_values(ascending=False).values\n",
    "\n",
    "    # create a dictionary of LMP values for each power zone based on tech capacity factor\n",
    "    lmp_dict = df_sorted.iloc[start_index:through_index].mean(axis=0).to_dict()\n",
    "    lmp_dict = {int(k): lmp_dict[k] for k in lmp_dict.keys()}\n",
    "\n",
    "    # add in no data\n",
    "    lmp_dict[self.lmp_zone_dict['utility_zone_raster_nodata_value']] = np.nan\n",
    "\n",
    "    # create LMP array for the current technology\n",
    "    lmp_arr[index] = np.vectorize(lmp_dict.get)(self.zones_arr)"
   ]
  },
  {
   "cell_type": "code",
   "execution_count": null,
   "id": "a9d99e4b-636e-4228-9995-c26fb160e640",
   "metadata": {},
   "outputs": [],
   "source": []
  },
  {
   "cell_type": "code",
   "execution_count": null,
   "id": "395e74a1-e76f-455b-8dac-0f21ab08e037",
   "metadata": {},
   "outputs": [],
   "source": []
  },
  {
   "cell_type": "code",
   "execution_count": 2,
   "id": "8b561de7-dc9d-423b-81db-cf59049bedf0",
   "metadata": {},
   "outputs": [],
   "source": [
    "import pandas as pd\n"
   ]
  },
  {
   "cell_type": "code",
   "execution_count": 7,
   "id": "731c2811-b800-4468-8bbd-3eff2ee78035",
   "metadata": {},
   "outputs": [
    {
     "ename": "AttributeError",
     "evalue": "Can't get attribute 'new_block' on <module 'pandas.core.internals.blocks' from '/Users/d3y010/.pyenv/versions/py3.9.4_cerf/lib/python3.9/site-packages/pandas/core/internals/blocks.py'>",
     "output_type": "error",
     "traceback": [
      "\u001b[0;31m---------------------------------------------------------------------------\u001b[0m",
      "\u001b[0;31mAttributeError\u001b[0m                            Traceback (most recent call last)",
      "\u001b[0;32m<ipython-input-7-689b575ee04b>\u001b[0m in \u001b[0;36m<module>\u001b[0;34m\u001b[0m\n\u001b[1;32m      5\u001b[0m \u001b[0;34m\u001b[0m\u001b[0m\n\u001b[1;32m      6\u001b[0m \u001b[0;34m\u001b[0m\u001b[0m\n\u001b[0;32m----> 7\u001b[0;31m \u001b[0mdf\u001b[0m \u001b[0;34m=\u001b[0m \u001b[0mpickle_utils\u001b[0m\u001b[0;34m.\u001b[0m\u001b[0mload\u001b[0m\u001b[0;34m(\u001b[0m\u001b[0mf\u001b[0m\u001b[0;34m,\u001b[0m \u001b[0mcompression\u001b[0m\u001b[0;34m=\u001b[0m\u001b[0;34m'zip'\u001b[0m\u001b[0;34m)\u001b[0m\u001b[0;34m\u001b[0m\u001b[0;34m\u001b[0m\u001b[0m\n\u001b[0m",
      "\u001b[0;32m~/.pyenv/versions/py3.9.4_cerf/lib/python3.9/site-packages/pickle_utils/__init__.py\u001b[0m in \u001b[0;36mload\u001b[0;34m(filename_or_object, compression)\u001b[0m\n\u001b[1;32m     24\u001b[0m             or hasattr(filename_or_object, '__fspath__')):\n\u001b[1;32m     25\u001b[0m         \u001b[0mcompression\u001b[0m \u001b[0;34m=\u001b[0m \u001b[0;32mNone\u001b[0m\u001b[0;34m\u001b[0m\u001b[0;34m\u001b[0m\u001b[0m\n\u001b[0;32m---> 26\u001b[0;31m     \u001b[0;32mreturn\u001b[0m \u001b[0mpd\u001b[0m\u001b[0;34m.\u001b[0m\u001b[0mread_pickle\u001b[0m\u001b[0;34m(\u001b[0m\u001b[0mfilename_or_object\u001b[0m\u001b[0;34m,\u001b[0m \u001b[0mcompression\u001b[0m\u001b[0;34m=\u001b[0m\u001b[0mcompression\u001b[0m\u001b[0;34m)\u001b[0m\u001b[0;34m\u001b[0m\u001b[0;34m\u001b[0m\u001b[0m\n\u001b[0m\u001b[1;32m     27\u001b[0m \u001b[0;34m\u001b[0m\u001b[0m\n\u001b[1;32m     28\u001b[0m \u001b[0;34m\u001b[0m\u001b[0m\n",
      "\u001b[0;32m~/.pyenv/versions/py3.9.4_cerf/lib/python3.9/site-packages/pandas/io/pickle.py\u001b[0m in \u001b[0;36mread_pickle\u001b[0;34m(filepath_or_buffer, compression)\u001b[0m\n\u001b[1;32m    185\u001b[0m             \u001b[0;31m#  \"No module named 'pandas.core.sparse.series'\"\u001b[0m\u001b[0;34m\u001b[0m\u001b[0;34m\u001b[0m\u001b[0;34m\u001b[0m\u001b[0m\n\u001b[1;32m    186\u001b[0m             \u001b[0;31m#  \"Can't get attribute '__nat_unpickle' on <module 'pandas._libs.tslib\"\u001b[0m\u001b[0;34m\u001b[0m\u001b[0;34m\u001b[0m\u001b[0;34m\u001b[0m\u001b[0m\n\u001b[0;32m--> 187\u001b[0;31m             \u001b[0;32mreturn\u001b[0m \u001b[0mpc\u001b[0m\u001b[0;34m.\u001b[0m\u001b[0mload\u001b[0m\u001b[0;34m(\u001b[0m\u001b[0mf\u001b[0m\u001b[0;34m,\u001b[0m \u001b[0mencoding\u001b[0m\u001b[0;34m=\u001b[0m\u001b[0;32mNone\u001b[0m\u001b[0;34m)\u001b[0m\u001b[0;34m\u001b[0m\u001b[0;34m\u001b[0m\u001b[0m\n\u001b[0m\u001b[1;32m    188\u001b[0m     \u001b[0;32mexcept\u001b[0m \u001b[0mUnicodeDecodeError\u001b[0m\u001b[0;34m:\u001b[0m\u001b[0;34m\u001b[0m\u001b[0;34m\u001b[0m\u001b[0m\n\u001b[1;32m    189\u001b[0m         \u001b[0;31m# e.g. can occur for files written in py27; see GH#28645 and GH#31988\u001b[0m\u001b[0;34m\u001b[0m\u001b[0;34m\u001b[0m\u001b[0;34m\u001b[0m\u001b[0m\n",
      "\u001b[0;32m~/.pyenv/versions/py3.9.4_cerf/lib/python3.9/site-packages/pandas/compat/pickle_compat.py\u001b[0m in \u001b[0;36mload\u001b[0;34m(fh, encoding, is_verbose)\u001b[0m\n\u001b[1;32m    247\u001b[0m         \u001b[0mup\u001b[0m\u001b[0;34m.\u001b[0m\u001b[0mis_verbose\u001b[0m \u001b[0;34m=\u001b[0m \u001b[0mis_verbose\u001b[0m\u001b[0;34m\u001b[0m\u001b[0;34m\u001b[0m\u001b[0m\n\u001b[1;32m    248\u001b[0m \u001b[0;34m\u001b[0m\u001b[0m\n\u001b[0;32m--> 249\u001b[0;31m         \u001b[0;32mreturn\u001b[0m \u001b[0mup\u001b[0m\u001b[0;34m.\u001b[0m\u001b[0mload\u001b[0m\u001b[0;34m(\u001b[0m\u001b[0;34m)\u001b[0m\u001b[0;34m\u001b[0m\u001b[0;34m\u001b[0m\u001b[0m\n\u001b[0m\u001b[1;32m    250\u001b[0m     \u001b[0;32mexcept\u001b[0m \u001b[0;34m(\u001b[0m\u001b[0mValueError\u001b[0m\u001b[0;34m,\u001b[0m \u001b[0mTypeError\u001b[0m\u001b[0;34m)\u001b[0m\u001b[0;34m:\u001b[0m\u001b[0;34m\u001b[0m\u001b[0;34m\u001b[0m\u001b[0m\n\u001b[1;32m    251\u001b[0m         \u001b[0;32mraise\u001b[0m\u001b[0;34m\u001b[0m\u001b[0;34m\u001b[0m\u001b[0m\n",
      "\u001b[0;32m~/.pyenv/versions/3.9.4/lib/python3.9/pickle.py\u001b[0m in \u001b[0;36mload\u001b[0;34m(self)\u001b[0m\n\u001b[1;32m   1210\u001b[0m                     \u001b[0;32mraise\u001b[0m \u001b[0mEOFError\u001b[0m\u001b[0;34m\u001b[0m\u001b[0;34m\u001b[0m\u001b[0m\n\u001b[1;32m   1211\u001b[0m                 \u001b[0;32massert\u001b[0m \u001b[0misinstance\u001b[0m\u001b[0;34m(\u001b[0m\u001b[0mkey\u001b[0m\u001b[0;34m,\u001b[0m \u001b[0mbytes_types\u001b[0m\u001b[0;34m)\u001b[0m\u001b[0;34m\u001b[0m\u001b[0;34m\u001b[0m\u001b[0m\n\u001b[0;32m-> 1212\u001b[0;31m                 \u001b[0mdispatch\u001b[0m\u001b[0;34m[\u001b[0m\u001b[0mkey\u001b[0m\u001b[0;34m[\u001b[0m\u001b[0;36m0\u001b[0m\u001b[0;34m]\u001b[0m\u001b[0;34m]\u001b[0m\u001b[0;34m(\u001b[0m\u001b[0mself\u001b[0m\u001b[0;34m)\u001b[0m\u001b[0;34m\u001b[0m\u001b[0;34m\u001b[0m\u001b[0m\n\u001b[0m\u001b[1;32m   1213\u001b[0m         \u001b[0;32mexcept\u001b[0m \u001b[0m_Stop\u001b[0m \u001b[0;32mas\u001b[0m \u001b[0mstopinst\u001b[0m\u001b[0;34m:\u001b[0m\u001b[0;34m\u001b[0m\u001b[0;34m\u001b[0m\u001b[0m\n\u001b[1;32m   1214\u001b[0m             \u001b[0;32mreturn\u001b[0m \u001b[0mstopinst\u001b[0m\u001b[0;34m.\u001b[0m\u001b[0mvalue\u001b[0m\u001b[0;34m\u001b[0m\u001b[0;34m\u001b[0m\u001b[0m\n",
      "\u001b[0;32m~/.pyenv/versions/3.9.4/lib/python3.9/pickle.py\u001b[0m in \u001b[0;36mload_stack_global\u001b[0;34m(self)\u001b[0m\n\u001b[1;32m   1535\u001b[0m         \u001b[0;32mif\u001b[0m \u001b[0mtype\u001b[0m\u001b[0;34m(\u001b[0m\u001b[0mname\u001b[0m\u001b[0;34m)\u001b[0m \u001b[0;32mis\u001b[0m \u001b[0;32mnot\u001b[0m \u001b[0mstr\u001b[0m \u001b[0;32mor\u001b[0m \u001b[0mtype\u001b[0m\u001b[0;34m(\u001b[0m\u001b[0mmodule\u001b[0m\u001b[0;34m)\u001b[0m \u001b[0;32mis\u001b[0m \u001b[0;32mnot\u001b[0m \u001b[0mstr\u001b[0m\u001b[0;34m:\u001b[0m\u001b[0;34m\u001b[0m\u001b[0;34m\u001b[0m\u001b[0m\n\u001b[1;32m   1536\u001b[0m             \u001b[0;32mraise\u001b[0m \u001b[0mUnpicklingError\u001b[0m\u001b[0;34m(\u001b[0m\u001b[0;34m\"STACK_GLOBAL requires str\"\u001b[0m\u001b[0;34m)\u001b[0m\u001b[0;34m\u001b[0m\u001b[0;34m\u001b[0m\u001b[0m\n\u001b[0;32m-> 1537\u001b[0;31m         \u001b[0mself\u001b[0m\u001b[0;34m.\u001b[0m\u001b[0mappend\u001b[0m\u001b[0;34m(\u001b[0m\u001b[0mself\u001b[0m\u001b[0;34m.\u001b[0m\u001b[0mfind_class\u001b[0m\u001b[0;34m(\u001b[0m\u001b[0mmodule\u001b[0m\u001b[0;34m,\u001b[0m \u001b[0mname\u001b[0m\u001b[0;34m)\u001b[0m\u001b[0;34m)\u001b[0m\u001b[0;34m\u001b[0m\u001b[0;34m\u001b[0m\u001b[0m\n\u001b[0m\u001b[1;32m   1538\u001b[0m     \u001b[0mdispatch\u001b[0m\u001b[0;34m[\u001b[0m\u001b[0mSTACK_GLOBAL\u001b[0m\u001b[0;34m[\u001b[0m\u001b[0;36m0\u001b[0m\u001b[0;34m]\u001b[0m\u001b[0;34m]\u001b[0m \u001b[0;34m=\u001b[0m \u001b[0mload_stack_global\u001b[0m\u001b[0;34m\u001b[0m\u001b[0;34m\u001b[0m\u001b[0m\n\u001b[1;32m   1539\u001b[0m \u001b[0;34m\u001b[0m\u001b[0m\n",
      "\u001b[0;32m~/.pyenv/versions/py3.9.4_cerf/lib/python3.9/site-packages/pandas/compat/pickle_compat.py\u001b[0m in \u001b[0;36mfind_class\u001b[0;34m(self, module, name)\u001b[0m\n\u001b[1;32m    187\u001b[0m         \u001b[0mkey\u001b[0m \u001b[0;34m=\u001b[0m \u001b[0;34m(\u001b[0m\u001b[0mmodule\u001b[0m\u001b[0;34m,\u001b[0m \u001b[0mname\u001b[0m\u001b[0;34m)\u001b[0m\u001b[0;34m\u001b[0m\u001b[0;34m\u001b[0m\u001b[0m\n\u001b[1;32m    188\u001b[0m         \u001b[0mmodule\u001b[0m\u001b[0;34m,\u001b[0m \u001b[0mname\u001b[0m \u001b[0;34m=\u001b[0m \u001b[0m_class_locations_map\u001b[0m\u001b[0;34m.\u001b[0m\u001b[0mget\u001b[0m\u001b[0;34m(\u001b[0m\u001b[0mkey\u001b[0m\u001b[0;34m,\u001b[0m \u001b[0mkey\u001b[0m\u001b[0;34m)\u001b[0m\u001b[0;34m\u001b[0m\u001b[0;34m\u001b[0m\u001b[0m\n\u001b[0;32m--> 189\u001b[0;31m         \u001b[0;32mreturn\u001b[0m \u001b[0msuper\u001b[0m\u001b[0;34m(\u001b[0m\u001b[0;34m)\u001b[0m\u001b[0;34m.\u001b[0m\u001b[0mfind_class\u001b[0m\u001b[0;34m(\u001b[0m\u001b[0mmodule\u001b[0m\u001b[0;34m,\u001b[0m \u001b[0mname\u001b[0m\u001b[0;34m)\u001b[0m\u001b[0;34m\u001b[0m\u001b[0;34m\u001b[0m\u001b[0m\n\u001b[0m\u001b[1;32m    190\u001b[0m \u001b[0;34m\u001b[0m\u001b[0m\n\u001b[1;32m    191\u001b[0m \u001b[0;34m\u001b[0m\u001b[0m\n",
      "\u001b[0;32m~/.pyenv/versions/3.9.4/lib/python3.9/pickle.py\u001b[0m in \u001b[0;36mfind_class\u001b[0;34m(self, module, name)\u001b[0m\n\u001b[1;32m   1579\u001b[0m         \u001b[0m__import__\u001b[0m\u001b[0;34m(\u001b[0m\u001b[0mmodule\u001b[0m\u001b[0;34m,\u001b[0m \u001b[0mlevel\u001b[0m\u001b[0;34m=\u001b[0m\u001b[0;36m0\u001b[0m\u001b[0;34m)\u001b[0m\u001b[0;34m\u001b[0m\u001b[0;34m\u001b[0m\u001b[0m\n\u001b[1;32m   1580\u001b[0m         \u001b[0;32mif\u001b[0m \u001b[0mself\u001b[0m\u001b[0;34m.\u001b[0m\u001b[0mproto\u001b[0m \u001b[0;34m>=\u001b[0m \u001b[0;36m4\u001b[0m\u001b[0;34m:\u001b[0m\u001b[0;34m\u001b[0m\u001b[0;34m\u001b[0m\u001b[0m\n\u001b[0;32m-> 1581\u001b[0;31m             \u001b[0;32mreturn\u001b[0m \u001b[0m_getattribute\u001b[0m\u001b[0;34m(\u001b[0m\u001b[0msys\u001b[0m\u001b[0;34m.\u001b[0m\u001b[0mmodules\u001b[0m\u001b[0;34m[\u001b[0m\u001b[0mmodule\u001b[0m\u001b[0;34m]\u001b[0m\u001b[0;34m,\u001b[0m \u001b[0mname\u001b[0m\u001b[0;34m)\u001b[0m\u001b[0;34m[\u001b[0m\u001b[0;36m0\u001b[0m\u001b[0;34m]\u001b[0m\u001b[0;34m\u001b[0m\u001b[0;34m\u001b[0m\u001b[0m\n\u001b[0m\u001b[1;32m   1582\u001b[0m         \u001b[0;32melse\u001b[0m\u001b[0;34m:\u001b[0m\u001b[0;34m\u001b[0m\u001b[0;34m\u001b[0m\u001b[0m\n\u001b[1;32m   1583\u001b[0m             \u001b[0;32mreturn\u001b[0m \u001b[0mgetattr\u001b[0m\u001b[0;34m(\u001b[0m\u001b[0msys\u001b[0m\u001b[0;34m.\u001b[0m\u001b[0mmodules\u001b[0m\u001b[0;34m[\u001b[0m\u001b[0mmodule\u001b[0m\u001b[0;34m]\u001b[0m\u001b[0;34m,\u001b[0m \u001b[0mname\u001b[0m\u001b[0;34m)\u001b[0m\u001b[0;34m\u001b[0m\u001b[0;34m\u001b[0m\u001b[0m\n",
      "\u001b[0;32m~/.pyenv/versions/3.9.4/lib/python3.9/pickle.py\u001b[0m in \u001b[0;36m_getattribute\u001b[0;34m(obj, name)\u001b[0m\n\u001b[1;32m    329\u001b[0m             \u001b[0mobj\u001b[0m \u001b[0;34m=\u001b[0m \u001b[0mgetattr\u001b[0m\u001b[0;34m(\u001b[0m\u001b[0mobj\u001b[0m\u001b[0;34m,\u001b[0m \u001b[0msubpath\u001b[0m\u001b[0;34m)\u001b[0m\u001b[0;34m\u001b[0m\u001b[0;34m\u001b[0m\u001b[0m\n\u001b[1;32m    330\u001b[0m         \u001b[0;32mexcept\u001b[0m \u001b[0mAttributeError\u001b[0m\u001b[0;34m:\u001b[0m\u001b[0;34m\u001b[0m\u001b[0;34m\u001b[0m\u001b[0m\n\u001b[0;32m--> 331\u001b[0;31m             raise AttributeError(\"Can't get attribute {!r} on {!r}\"\n\u001b[0m\u001b[1;32m    332\u001b[0m                                  .format(name, obj)) from None\n\u001b[1;32m    333\u001b[0m     \u001b[0;32mreturn\u001b[0m \u001b[0mobj\u001b[0m\u001b[0;34m,\u001b[0m \u001b[0mparent\u001b[0m\u001b[0;34m\u001b[0m\u001b[0;34m\u001b[0m\u001b[0m\n",
      "\u001b[0;31mAttributeError\u001b[0m: Can't get attribute 'new_block' on <module 'pandas.core.internals.blocks' from '/Users/d3y010/.pyenv/versions/py3.9.4_cerf/lib/python3.9/site-packages/pandas/core/internals/blocks.py'>"
     ]
    }
   ],
   "source": [
    "\n",
    "import pandas as pd\n",
    "import pickle_utils\n",
    "\n",
    "f = '/Users/d3y010/Downloads/new_tas_values.pkl'\n",
    "\n",
    "\n",
    "df = pickle_utils.load(f, compression='zip')\n"
   ]
  },
  {
   "cell_type": "code",
   "execution_count": null,
   "id": "eac3100c-bcd8-433b-afb1-324145da29c7",
   "metadata": {},
   "outputs": [],
   "source": []
  }
 ],
 "metadata": {
  "kernelspec": {
   "display_name": "py3.9.4_cerf",
   "language": "python",
   "name": "py3.9.4_cerf"
  },
  "language_info": {
   "codemirror_mode": {
    "name": "ipython",
    "version": 3
   },
   "file_extension": ".py",
   "mimetype": "text/x-python",
   "name": "python",
   "nbconvert_exporter": "python",
   "pygments_lexer": "ipython3",
   "version": "3.9.4"
  }
 },
 "nbformat": 4,
 "nbformat_minor": 5
}
