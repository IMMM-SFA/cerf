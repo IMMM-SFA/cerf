{
 "cells": [
  {
   "cell_type": "code",
   "execution_count": 1,
   "metadata": {
    "collapsed": true
   },
   "outputs": [],
   "source": [
    "import os\n",
    "\n",
    "import rasterio\n"
   ]
  },
  {
   "cell_type": "code",
   "execution_count": 3,
   "outputs": [],
   "source": [
    "sdf = gpd.read_file('/Users/d3y010/projects/cerf/data/eia/shp/cerf_substations_clean.shp')"
   ],
   "metadata": {
    "collapsed": false,
    "pycharm": {
     "name": "#%%\n"
    }
   }
  },
  {
   "cell_type": "code",
   "execution_count": 4,
   "outputs": [
    {
     "data": {
      "text/plain": "                    NAME        TYPE      STATUS  MAX_VOLT  MIN_VOLT  \\\n0          UNKNOWN107655  SUBSTATION  IN SERVICE     161.0      69.0   \n1          UNKNOWN107656  SUBSTATION  IN SERVICE     115.0      69.0   \n2          UNKNOWN107657  SUBSTATION  IN SERVICE     115.0 -999999.0   \n3  SOUTH SHEBOYGAN FALLS  SUBSTATION  IN SERVICE     138.0      69.0   \n4         CHALK HILLS HY  SUBSTATION  IN SERVICE     138.0 -999999.0   \n\n                            geometry  \n0  POINT (-10226336.565 5743316.246)  \n1  POINT (-10053464.958 5706699.742)  \n2  POINT (-10144276.066 5656784.281)  \n3   POINT (-9778125.514 5420826.129)  \n4   POINT (-9773953.789 5702771.663)  ",
      "text/html": "<div>\n<style scoped>\n    .dataframe tbody tr th:only-of-type {\n        vertical-align: middle;\n    }\n\n    .dataframe tbody tr th {\n        vertical-align: top;\n    }\n\n    .dataframe thead th {\n        text-align: right;\n    }\n</style>\n<table border=\"1\" class=\"dataframe\">\n  <thead>\n    <tr style=\"text-align: right;\">\n      <th></th>\n      <th>NAME</th>\n      <th>TYPE</th>\n      <th>STATUS</th>\n      <th>MAX_VOLT</th>\n      <th>MIN_VOLT</th>\n      <th>geometry</th>\n    </tr>\n  </thead>\n  <tbody>\n    <tr>\n      <th>0</th>\n      <td>UNKNOWN107655</td>\n      <td>SUBSTATION</td>\n      <td>IN SERVICE</td>\n      <td>161.0</td>\n      <td>69.0</td>\n      <td>POINT (-10226336.565 5743316.246)</td>\n    </tr>\n    <tr>\n      <th>1</th>\n      <td>UNKNOWN107656</td>\n      <td>SUBSTATION</td>\n      <td>IN SERVICE</td>\n      <td>115.0</td>\n      <td>69.0</td>\n      <td>POINT (-10053464.958 5706699.742)</td>\n    </tr>\n    <tr>\n      <th>2</th>\n      <td>UNKNOWN107657</td>\n      <td>SUBSTATION</td>\n      <td>IN SERVICE</td>\n      <td>115.0</td>\n      <td>-999999.0</td>\n      <td>POINT (-10144276.066 5656784.281)</td>\n    </tr>\n    <tr>\n      <th>3</th>\n      <td>SOUTH SHEBOYGAN FALLS</td>\n      <td>SUBSTATION</td>\n      <td>IN SERVICE</td>\n      <td>138.0</td>\n      <td>69.0</td>\n      <td>POINT (-9778125.514 5420826.129)</td>\n    </tr>\n    <tr>\n      <th>4</th>\n      <td>CHALK HILLS HY</td>\n      <td>SUBSTATION</td>\n      <td>IN SERVICE</td>\n      <td>138.0</td>\n      <td>-999999.0</td>\n      <td>POINT (-9773953.789 5702771.663)</td>\n    </tr>\n  </tbody>\n</table>\n</div>"
     },
     "execution_count": 4,
     "metadata": {},
     "output_type": "execute_result"
    }
   ],
   "source": [
    "sdf.head()"
   ],
   "metadata": {
    "collapsed": false,
    "pycharm": {
     "name": "#%%\n"
    }
   }
  },
  {
   "cell_type": "code",
   "execution_count": null,
   "outputs": [],
   "source": [],
   "metadata": {
    "collapsed": false,
    "pycharm": {
     "name": "#%%\n"
    }
   }
  }
 ],
 "metadata": {
  "kernelspec": {
   "name": "py3.8.9",
   "language": "python",
   "display_name": "py3.8.9"
  },
  "language_info": {
   "codemirror_mode": {
    "name": "ipython",
    "version": 2
   },
   "file_extension": ".py",
   "mimetype": "text/x-python",
   "name": "python",
   "nbconvert_exporter": "python",
   "pygments_lexer": "ipython2",
   "version": "2.7.6"
  }
 },
 "nbformat": 4,
 "nbformat_minor": 0
}