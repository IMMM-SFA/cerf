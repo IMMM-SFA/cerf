{
 "cells": [
  {
   "cell_type": "markdown",
   "metadata": {},
   "source": [
    "# TODO"
   ]
  },
  {
   "cell_type": "markdown",
   "metadata": {},
   "source": [
    "## finalize transmission module"
   ]
  },
  {
   "cell_type": "code",
   "execution_count": 1,
   "metadata": {},
   "outputs": [],
   "source": [
    "import os\n",
    "import pkg_resources\n",
    "\n",
    "import leafmap\n",
    "import whitebox\n",
    "import rasterio\n",
    "import yaml\n",
    "\n",
    "import numpy as np\n",
    "import geopandas as gpd\n",
    "\n",
    "from rasterio import features\n",
    "\n",
    "import cerf\n",
    "\n",
    "wbt = whitebox.WhiteboxTools()\n"
   ]
  },
  {
   "cell_type": "code",
   "execution_count": 5,
   "metadata": {},
   "outputs": [],
   "source": [
    "data_dir = '/Users/d3y010/projects/cerf/data'\n",
    "\n",
    "states_file = pkg_resources.resource_filename('cerf', 'data/state-abbrev_to_state-name.yml')\n",
    "\n",
    "original_file = os.path.join(data_dir, 'hifld', 'Electric_Substations-shp', 'Substations.shp')\n",
    "\n",
    "template_raster = pkg_resources.resource_filename('cerf', 'data/cerf_conus_states_albers_1km.tif')\n",
    "\n",
    "substation_raster = '/Users/d3y010/Desktop/subs_distance.tif'\n",
    "\n",
    "natgas_file = os.path.join(data_dir, 'eia', 'NaturalGas_InterIntrastate_Pipelines_US_EIA', 'NaturalGas_Pipelines_US_202001.shp')\n"
   ]
  },
  {
   "cell_type": "code",
   "execution_count": 3,
   "metadata": {},
   "outputs": [],
   "source": [
    "gdf = cerf.process_hifld_substations()\n"
   ]
  },
  {
   "cell_type": "code",
   "execution_count": 4,
   "metadata": {},
   "outputs": [],
   "source": [
    "cerf.transmission_to_distance_raster(gdf, substation_raster)\n"
   ]
  },
  {
   "cell_type": "code",
   "execution_count": 6,
   "metadata": {},
   "outputs": [],
   "source": [
    "xdf = gpd.read_file(natgas_file)\n",
    "\n",
    "xdf\n"
   ]
  },
  {
   "cell_type": "code",
   "execution_count": 9,
   "metadata": {},
   "outputs": [
    {
     "data": {
      "text/plain": [
       "Index(['TYPEPIPE', 'Operator', 'Status', 'Shape_Leng', 'geometry'], dtype='object')"
      ]
     },
     "execution_count": 9,
     "metadata": {},
     "output_type": "execute_result"
    }
   ],
   "source": [
    "xdf = g"
   ]
  },
  {
   "cell_type": "code",
   "execution_count": 8,
   "metadata": {},
   "outputs": [
    {
     "data": {
      "text/plain": [
       "array(['Intrastate', 'Interstate', 'Gathering'], dtype=object)"
      ]
     },
     "execution_count": 8,
     "metadata": {},
     "output_type": "execute_result"
    }
   ],
   "source": [
    "\n",
    "xdf.TYPEPIPE.unique()\n"
   ]
  },
  {
   "cell_type": "code",
   "execution_count": 10,
   "metadata": {},
   "outputs": [
    {
     "data": {
      "text/plain": [
       "array(['Operating'], dtype=object)"
      ]
     },
     "execution_count": 10,
     "metadata": {},
     "output_type": "execute_result"
    }
   ],
   "source": [
    "xdf.Status.unique()\n"
   ]
  },
  {
   "cell_type": "code",
   "execution_count": null,
   "metadata": {},
   "outputs": [],
   "source": [
    "cerf.transmission_to_distance_raster(xdf, '/Users/d3y010/Desktop/projects')\n"
   ]
  },
  {
   "cell_type": "code",
   "execution_count": null,
   "metadata": {},
   "outputs": [],
   "source": []
  },
  {
   "cell_type": "code",
   "execution_count": null,
   "metadata": {},
   "outputs": [],
   "source": []
  },
  {
   "cell_type": "code",
   "execution_count": null,
   "metadata": {},
   "outputs": [],
   "source": []
  },
  {
   "cell_type": "code",
   "execution_count": 11,
   "metadata": {},
   "outputs": [],
   "source": [
    "with rasterio.open(template_raster) as src:\n",
    "    target_crs = src.crs\n"
   ]
  },
  {
   "cell_type": "code",
   "execution_count": 13,
   "metadata": {},
   "outputs": [],
   "source": [
    "with open(states_file, 'r') as yml:\n",
    "    states = yaml.load(yml, Loader=yaml.FullLoader)\n"
   ]
  },
  {
   "cell_type": "code",
   "execution_count": 14,
   "metadata": {},
   "outputs": [],
   "source": [
    "gdf = gpd.read_file(original_file)\n"
   ]
  },
  {
   "cell_type": "code",
   "execution_count": 15,
   "metadata": {},
   "outputs": [],
   "source": [
    "# keep only substations in the CONUS that are either in service or under construction\n",
    "gdf = gdf.loc[(gdf['TYPE'] == 'SUBSTATION') & \n",
    "              (gdf['STATE'].isin(states.keys())) &\n",
    "              (gdf['STATUS'].isin(('IN SERVICE', 'UNDER CONST')))].copy()\n",
    "\n",
    "# set field to be used as raster value\n",
    "gdf['value'] = 1\n"
   ]
  },
  {
   "cell_type": "code",
   "execution_count": 12,
   "metadata": {},
   "outputs": [],
   "source": [
    "xdf = gdf[['geometry']].copy()\n",
    "xdf = xdf.to_crs(target_crs)\n",
    "\n",
    "\n",
    "xdf.to_file('/Users/d3y010/repos/github/cerf/cerf/data/hifld_substations_conus_albers.shp')\n"
   ]
  },
  {
   "cell_type": "code",
   "execution_count": null,
   "metadata": {},
   "outputs": [],
   "source": []
  },
  {
   "cell_type": "code",
   "execution_count": 16,
   "metadata": {},
   "outputs": [],
   "source": [
    "with rasterio.open(template_raster) as src:\n",
    "    \n",
    "    # create 0 where land array\n",
    "    arr = src.read(1) * 0\n",
    "    \n",
    "    metadata = src.meta.copy()\n",
    "    target_crs = src.crs\n",
    "    \n",
    "    with rasterio.open(substation_raster, 'w', **metadata) as out:\n",
    "\n",
    "        # reproject transmission data\n",
    "        gdf = gdf.to_crs(target_crs)\n",
    "\n",
    "        # get shapes\n",
    "        shapes = ((geom, value) for geom, value in zip(gdf.geometry, gdf['value']))\n",
    "\n",
    "        # burn shapes\n",
    "        burned = features.rasterize(shapes=shapes, fill=0, out=arr, transform=out.transform)\n",
    "\n",
    "        out.write_band(1, burned)\n"
   ]
  },
  {
   "cell_type": "code",
   "execution_count": 46,
   "metadata": {},
   "outputs": [],
   "source": [
    "from rasterio.io import MemoryFile\n",
    "from rasterio.plot import show\n",
    "import tempfile\n",
    "\n",
    "\n",
    "def suppress_callback(value):\n",
    "    \"\"\"Do not log callback output for whitebox functions.\"\"\"\n",
    "    \n",
    "    pass\n",
    "\n",
    "\n",
    "\n",
    "with tempfile.NamedTemporaryFile(suffix='.tif') as temp:\n",
    "\n",
    "    with rasterio.open(template_raster) as src:\n",
    "\n",
    "        # create 0 where land array\n",
    "        arr = src.read(1) * 0\n",
    "\n",
    "        metadata = src.meta.copy()\n",
    "        \n",
    "        # reproject transmission data\n",
    "        gdf = gdf.to_crs(src.crs)\n",
    "\n",
    "        # get shapes\n",
    "        shapes = ((geom, value) for geom, value in zip(gdf.geometry, gdf['_rval_']))\n",
    "\n",
    "    # rasterize transmission vector data and save to memory\n",
    "    with rasterio.open(temp.name, 'w', **metadata) as dataset:\n",
    "\n",
    "        # burn features into raster\n",
    "        burned = features.rasterize(shapes=shapes, fill=0, out=arr, transform=dataset.transform)\n",
    "\n",
    "        # write the outputs to file\n",
    "        dataset.write_band(1, burned)\n",
    "\n",
    "    # calculate Euclidean distance file and write raster; result just stores the return value 0\n",
    "    result = wbt.euclidean_distance(temp.name, substation_raster, callback=suppress_callback)\n",
    "\n"
   ]
  },
  {
   "cell_type": "code",
   "execution_count": 30,
   "metadata": {},
   "outputs": [
    {
     "data": {
      "text/plain": [
       "['/vsimem/b8cb4085-dcb9-4f53-bbd4-2171a4a98df5/b8cb4085-dcb9-4f53-bbd4-2171a4a98df5.tif']"
      ]
     },
     "execution_count": 30,
     "metadata": {},
     "output_type": "execute_result"
    }
   ],
   "source": [
    "dataset."
   ]
  },
  {
   "cell_type": "code",
   "execution_count": null,
   "metadata": {},
   "outputs": [],
   "source": []
  },
  {
   "cell_type": "code",
   "execution_count": 22,
   "metadata": {},
   "outputs": [],
   "source": [
    "t = tempfile.NamedTemporaryFile()\n"
   ]
  },
  {
   "cell_type": "code",
   "execution_count": 23,
   "metadata": {},
   "outputs": [
    {
     "name": "stdout",
     "output_type": "stream",
     "text": [
      "/var/folders/1q/kbqf0s_90m907n320mhb_gq46y9fxr/T/tmpnv4hwuep\n"
     ]
    }
   ],
   "source": [
    "print(t.name)\n",
    "t.close()"
   ]
  },
  {
   "cell_type": "code",
   "execution_count": 25,
   "metadata": {},
   "outputs": [],
   "source": [
    "\n",
    "def suppress_callback(value):\n",
    "    \"\"\"Do not log callback output for whitebox functions.\"\"\"\n",
    "    \n",
    "    pass\n",
    "\n",
    "# value of v will be 0 if succ\n",
    "v = wbt.euclidean_distance(\n",
    "    substation_raster, \n",
    "    '/Users/d3y010/Desktop/euclidean_distance.tif',\n",
    "    callback=suppress_callback\n",
    ")\n"
   ]
  },
  {
   "cell_type": "code",
   "execution_count": null,
   "metadata": {},
   "outputs": [],
   "source": [
    "output_units='km'\n",
    "\n",
    "    :param output_units:                        Units of distance. Default is kilometers (km).  Alternate options\n",
    "                                                are miles (mile) and meters (m).\n",
    "    :type output_units:                         str\n",
    "            \n",
    "            \n",
    "# get conversion factor for native units of meters\n",
    "units_lowercase = output_units.lower()\n",
    "if units_lowercase == 'km':\n",
    "    conversion_factor = 0.001\n",
    "elif units_lowercase == 'mile':\n",
    "    conversion_factor = 0.000621371\n",
    "elif units_lowercase == 'm':\n",
    "    conversion_factor = 1\n",
    "else:\n",
    "    raise KeyError(f\"'output_units' must be in 'km' or 'mile'. Option '{output_units}' not supported.\")\n"
   ]
  },
  {
   "cell_type": "code",
   "execution_count": null,
   "metadata": {},
   "outputs": [],
   "source": []
  },
  {
   "cell_type": "code",
   "execution_count": null,
   "metadata": {},
   "outputs": [],
   "source": []
  },
  {
   "cell_type": "code",
   "execution_count": null,
   "metadata": {},
   "outputs": [],
   "source": []
  },
  {
   "cell_type": "code",
   "execution_count": null,
   "metadata": {},
   "outputs": [],
   "source": []
  },
  {
   "cell_type": "markdown",
   "metadata": {},
   "source": [
    "## finalize lmp module"
   ]
  },
  {
   "cell_type": "code",
   "execution_count": null,
   "metadata": {},
   "outputs": [],
   "source": []
  },
  {
   "cell_type": "markdown",
   "metadata": {},
   "source": [
    "## finalize read the docs"
   ]
  },
  {
   "cell_type": "code",
   "execution_count": null,
   "metadata": {},
   "outputs": [],
   "source": []
  },
  {
   "cell_type": "markdown",
   "metadata": {},
   "source": [
    "## regenerate figure for paper"
   ]
  },
  {
   "cell_type": "code",
   "execution_count": null,
   "metadata": {},
   "outputs": [],
   "source": []
  },
  {
   "cell_type": "markdown",
   "metadata": {},
   "source": [
    "## metarepo"
   ]
  },
  {
   "cell_type": "code",
   "execution_count": null,
   "metadata": {},
   "outputs": [],
   "source": []
  },
  {
   "cell_type": "markdown",
   "metadata": {},
   "source": [
    "## finalize tutorial"
   ]
  },
  {
   "cell_type": "code",
   "execution_count": null,
   "metadata": {},
   "outputs": [],
   "source": []
  },
  {
   "cell_type": "markdown",
   "metadata": {},
   "source": [
    "## cerf on pypy"
   ]
  },
  {
   "cell_type": "code",
   "execution_count": null,
   "metadata": {},
   "outputs": [],
   "source": []
  },
  {
   "cell_type": "code",
   "execution_count": null,
   "metadata": {},
   "outputs": [],
   "source": []
  },
  {
   "cell_type": "code",
   "execution_count": null,
   "metadata": {},
   "outputs": [],
   "source": []
  },
  {
   "cell_type": "code",
   "execution_count": 1,
   "metadata": {
    "tags": []
   },
   "outputs": [],
   "source": [
    "import os\n",
    "\n",
    "import rasterio\n"
   ]
  },
  {
   "cell_type": "code",
   "execution_count": 3,
   "metadata": {
    "collapsed": false,
    "jupyter": {
     "outputs_hidden": false
    },
    "pycharm": {
     "name": "#%%\n"
    }
   },
   "outputs": [],
   "source": [
    "sdf = gpd.read_file('/Users/d3y010/projects/cerf/data/eia/shp/cerf_substations_clean.shp')"
   ]
  },
  {
   "cell_type": "code",
   "execution_count": 4,
   "metadata": {
    "collapsed": false,
    "jupyter": {
     "outputs_hidden": false
    },
    "pycharm": {
     "name": "#%%\n"
    }
   },
   "outputs": [
    {
     "data": {
      "text/html": [
       "<div>\n",
       "<style scoped>\n",
       "    .dataframe tbody tr th:only-of-type {\n",
       "        vertical-align: middle;\n",
       "    }\n",
       "\n",
       "    .dataframe tbody tr th {\n",
       "        vertical-align: top;\n",
       "    }\n",
       "\n",
       "    .dataframe thead th {\n",
       "        text-align: right;\n",
       "    }\n",
       "</style>\n",
       "<table border=\"1\" class=\"dataframe\">\n",
       "  <thead>\n",
       "    <tr style=\"text-align: right;\">\n",
       "      <th></th>\n",
       "      <th>NAME</th>\n",
       "      <th>TYPE</th>\n",
       "      <th>STATUS</th>\n",
       "      <th>MAX_VOLT</th>\n",
       "      <th>MIN_VOLT</th>\n",
       "      <th>geometry</th>\n",
       "    </tr>\n",
       "  </thead>\n",
       "  <tbody>\n",
       "    <tr>\n",
       "      <th>0</th>\n",
       "      <td>UNKNOWN107655</td>\n",
       "      <td>SUBSTATION</td>\n",
       "      <td>IN SERVICE</td>\n",
       "      <td>161.0</td>\n",
       "      <td>69.0</td>\n",
       "      <td>POINT (-10226336.565 5743316.246)</td>\n",
       "    </tr>\n",
       "    <tr>\n",
       "      <th>1</th>\n",
       "      <td>UNKNOWN107656</td>\n",
       "      <td>SUBSTATION</td>\n",
       "      <td>IN SERVICE</td>\n",
       "      <td>115.0</td>\n",
       "      <td>69.0</td>\n",
       "      <td>POINT (-10053464.958 5706699.742)</td>\n",
       "    </tr>\n",
       "    <tr>\n",
       "      <th>2</th>\n",
       "      <td>UNKNOWN107657</td>\n",
       "      <td>SUBSTATION</td>\n",
       "      <td>IN SERVICE</td>\n",
       "      <td>115.0</td>\n",
       "      <td>-999999.0</td>\n",
       "      <td>POINT (-10144276.066 5656784.281)</td>\n",
       "    </tr>\n",
       "    <tr>\n",
       "      <th>3</th>\n",
       "      <td>SOUTH SHEBOYGAN FALLS</td>\n",
       "      <td>SUBSTATION</td>\n",
       "      <td>IN SERVICE</td>\n",
       "      <td>138.0</td>\n",
       "      <td>69.0</td>\n",
       "      <td>POINT (-9778125.514 5420826.129)</td>\n",
       "    </tr>\n",
       "    <tr>\n",
       "      <th>4</th>\n",
       "      <td>CHALK HILLS HY</td>\n",
       "      <td>SUBSTATION</td>\n",
       "      <td>IN SERVICE</td>\n",
       "      <td>138.0</td>\n",
       "      <td>-999999.0</td>\n",
       "      <td>POINT (-9773953.789 5702771.663)</td>\n",
       "    </tr>\n",
       "  </tbody>\n",
       "</table>\n",
       "</div>"
      ],
      "text/plain": [
       "                    NAME        TYPE      STATUS  MAX_VOLT  MIN_VOLT  \\\n",
       "0          UNKNOWN107655  SUBSTATION  IN SERVICE     161.0      69.0   \n",
       "1          UNKNOWN107656  SUBSTATION  IN SERVICE     115.0      69.0   \n",
       "2          UNKNOWN107657  SUBSTATION  IN SERVICE     115.0 -999999.0   \n",
       "3  SOUTH SHEBOYGAN FALLS  SUBSTATION  IN SERVICE     138.0      69.0   \n",
       "4         CHALK HILLS HY  SUBSTATION  IN SERVICE     138.0 -999999.0   \n",
       "\n",
       "                            geometry  \n",
       "0  POINT (-10226336.565 5743316.246)  \n",
       "1  POINT (-10053464.958 5706699.742)  \n",
       "2  POINT (-10144276.066 5656784.281)  \n",
       "3   POINT (-9778125.514 5420826.129)  \n",
       "4   POINT (-9773953.789 5702771.663)  "
      ]
     },
     "execution_count": 4,
     "metadata": {},
     "output_type": "execute_result"
    }
   ],
   "source": [
    "sdf.head()"
   ]
  },
  {
   "cell_type": "code",
   "execution_count": null,
   "metadata": {
    "collapsed": false,
    "jupyter": {
     "outputs_hidden": false
    },
    "pycharm": {
     "name": "#%%\n"
    }
   },
   "outputs": [],
   "source": []
  }
 ],
 "metadata": {
  "kernelspec": {
   "display_name": "py3.9.2_cerf",
   "language": "python",
   "name": "py3.9.2_cerf"
  },
  "language_info": {
   "codemirror_mode": {
    "name": "ipython",
    "version": 3
   },
   "file_extension": ".py",
   "mimetype": "text/x-python",
   "name": "python",
   "nbconvert_exporter": "python",
   "pygments_lexer": "ipython3",
   "version": "3.9.2"
  }
 },
 "nbformat": 4,
 "nbformat_minor": 4
}
