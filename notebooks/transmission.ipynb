{
 "cells": [
  {
   "cell_type": "markdown",
   "metadata": {},
   "source": [
    "# TODO"
   ]
  },
  {
   "cell_type": "markdown",
   "metadata": {},
   "source": [
    "## finalize transmission module"
   ]
  },
  {
   "cell_type": "code",
   "execution_count": 2,
   "metadata": {},
   "outputs": [],
   "source": [
    "import os\n",
    "import pkg_resources\n",
    "import tempfile\n",
    "\n",
    "import leafmap\n",
    "import whitebox\n",
    "import rasterio\n",
    "import yaml\n",
    "\n",
    "import numpy as np\n",
    "import geopandas as gpd\n",
    "\n",
    "from rasterio import features\n",
    "import rasterio.mask\n",
    "\n",
    "import cerf\n",
    "\n",
    "wbt = whitebox.WhiteboxTools()\n"
   ]
  },
  {
   "cell_type": "code",
   "execution_count": 7,
   "metadata": {},
   "outputs": [],
   "source": [
    "data_dir = '/Users/d3y010/projects/cerf/data'\n",
    "\n",
    "states_file = pkg_resources.resource_filename('cerf', 'data/state-abbrev_to_state-name.yml')\n",
    "\n",
    "original_file = os.path.join(data_dir, 'hifld', 'Electric_Substations-shp', 'Substations.shp')\n",
    "\n",
    "template_raster = pkg_resources.resource_filename('cerf', 'data/cerf_conus_states_albers_1km.tif')\n",
    "\n",
    "substation_raster = '/Users/d3y010/Desktop/subs_distance.tif'\n",
    "\n",
    "natgas_file = os.path.join(data_dir, 'eia', 'NaturalGas_InterIntrastate_Pipelines_US_EIA', 'NaturalGas_Pipelines_US_202001.shp')\n"
   ]
  },
  {
   "cell_type": "code",
   "execution_count": 6,
   "metadata": {},
   "outputs": [],
   "source": [
    "from cerf import Interconnection"
   ]
  },
  {
   "cell_type": "code",
   "execution_count": null,
   "metadata": {},
   "outputs": [],
   "source": []
  },
  {
   "cell_type": "code",
   "execution_count": 10,
   "metadata": {},
   "outputs": [],
   "source": [
    "with rasterio.open(template_raster) as src:\n",
    "    \n",
    "    gdf = gpd.read_file(original_file).to_crs(src.crs)\n"
   ]
  },
  {
   "cell_type": "code",
   "execution_count": 11,
   "metadata": {},
   "outputs": [
    {
     "data": {
      "text/html": [
       "<div>\n",
       "<style scoped>\n",
       "    .dataframe tbody tr th:only-of-type {\n",
       "        vertical-align: middle;\n",
       "    }\n",
       "\n",
       "    .dataframe tbody tr th {\n",
       "        vertical-align: top;\n",
       "    }\n",
       "\n",
       "    .dataframe thead th {\n",
       "        text-align: right;\n",
       "    }\n",
       "</style>\n",
       "<table border=\"1\" class=\"dataframe\">\n",
       "  <thead>\n",
       "    <tr style=\"text-align: right;\">\n",
       "      <th></th>\n",
       "      <th>OBJECTID</th>\n",
       "      <th>ID</th>\n",
       "      <th>NAME</th>\n",
       "      <th>CITY</th>\n",
       "      <th>STATE</th>\n",
       "      <th>ZIP</th>\n",
       "      <th>TYPE</th>\n",
       "      <th>STATUS</th>\n",
       "      <th>COUNTY</th>\n",
       "      <th>COUNTYFIPS</th>\n",
       "      <th>...</th>\n",
       "      <th>SOURCE</th>\n",
       "      <th>SOURCEDATE</th>\n",
       "      <th>VAL_METHOD</th>\n",
       "      <th>VAL_DATE</th>\n",
       "      <th>LINES</th>\n",
       "      <th>MAX_VOLT</th>\n",
       "      <th>MIN_VOLT</th>\n",
       "      <th>MAX_INFER</th>\n",
       "      <th>MIN_INFER</th>\n",
       "      <th>geometry</th>\n",
       "    </tr>\n",
       "  </thead>\n",
       "  <tbody>\n",
       "    <tr>\n",
       "      <th>0</th>\n",
       "      <td>1</td>\n",
       "      <td>107655</td>\n",
       "      <td>UNKNOWN107655</td>\n",
       "      <td>SHELL LAKE</td>\n",
       "      <td>WI</td>\n",
       "      <td>54871</td>\n",
       "      <td>SUBSTATION</td>\n",
       "      <td>IN SERVICE</td>\n",
       "      <td>WASHBURN</td>\n",
       "      <td>55129</td>\n",
       "      <td>...</td>\n",
       "      <td>http://psc.wi.gov/lmp_zoneinfo/maps/electricmap...</td>\n",
       "      <td>2014-04-07</td>\n",
       "      <td>IMAGERY</td>\n",
       "      <td>2015-08-28</td>\n",
       "      <td>5.0</td>\n",
       "      <td>161.0</td>\n",
       "      <td>69.0</td>\n",
       "      <td>N</td>\n",
       "      <td>Y</td>\n",
       "      <td>POINT (321804.304 931364.975)</td>\n",
       "    </tr>\n",
       "    <tr>\n",
       "      <th>1</th>\n",
       "      <td>2</td>\n",
       "      <td>107656</td>\n",
       "      <td>UNKNOWN107656</td>\n",
       "      <td>PRENTICE</td>\n",
       "      <td>WI</td>\n",
       "      <td>54556</td>\n",
       "      <td>SUBSTATION</td>\n",
       "      <td>IN SERVICE</td>\n",
       "      <td>PRICE</td>\n",
       "      <td>55099</td>\n",
       "      <td>...</td>\n",
       "      <td>http://psc.wi.gov/lmp_zoneinfo/maps/electricmap...</td>\n",
       "      <td>2014-04-07</td>\n",
       "      <td>IMAGERY</td>\n",
       "      <td>2015-08-28</td>\n",
       "      <td>3.0</td>\n",
       "      <td>115.0</td>\n",
       "      <td>69.0</td>\n",
       "      <td>N</td>\n",
       "      <td>Y</td>\n",
       "      <td>POINT (444056.365 912112.182)</td>\n",
       "    </tr>\n",
       "    <tr>\n",
       "      <th>2</th>\n",
       "      <td>3</td>\n",
       "      <td>107657</td>\n",
       "      <td>UNKNOWN107657</td>\n",
       "      <td>HOLCOMBE</td>\n",
       "      <td>WI</td>\n",
       "      <td>54745</td>\n",
       "      <td>SUBSTATION</td>\n",
       "      <td>IN SERVICE</td>\n",
       "      <td>CHIPPEWA</td>\n",
       "      <td>55017</td>\n",
       "      <td>...</td>\n",
       "      <td>http://psc.wi.gov/lmp_zoneinfo/maps/electricmap...</td>\n",
       "      <td>2014-04-07</td>\n",
       "      <td>IMAGERY</td>\n",
       "      <td>2015-08-28</td>\n",
       "      <td>4.0</td>\n",
       "      <td>115.0</td>\n",
       "      <td>-999999.0</td>\n",
       "      <td>N</td>\n",
       "      <td>N</td>\n",
       "      <td>POINT (382227.045 873605.053)</td>\n",
       "    </tr>\n",
       "    <tr>\n",
       "      <th>3</th>\n",
       "      <td>4</td>\n",
       "      <td>107658</td>\n",
       "      <td>SOUTH SHEBOYGAN FALLS</td>\n",
       "      <td>LIMA TOWN OF</td>\n",
       "      <td>WI</td>\n",
       "      <td>53085</td>\n",
       "      <td>SUBSTATION</td>\n",
       "      <td>IN SERVICE</td>\n",
       "      <td>SHEBOYGAN</td>\n",
       "      <td>55117</td>\n",
       "      <td>...</td>\n",
       "      <td>IMAGERY, OpenStreetMap, http://www.atcllc.com/...</td>\n",
       "      <td>2014-04-07</td>\n",
       "      <td>IMAGERY</td>\n",
       "      <td>2018-09-11</td>\n",
       "      <td>3.0</td>\n",
       "      <td>138.0</td>\n",
       "      <td>69.0</td>\n",
       "      <td>Y</td>\n",
       "      <td>Y</td>\n",
       "      <td>POINT (654201.704 723404.723)</td>\n",
       "    </tr>\n",
       "    <tr>\n",
       "      <th>4</th>\n",
       "      <td>5</td>\n",
       "      <td>107659</td>\n",
       "      <td>CHALK HILLS HY</td>\n",
       "      <td>DAGGETT</td>\n",
       "      <td>MI</td>\n",
       "      <td>49821</td>\n",
       "      <td>SUBSTATION</td>\n",
       "      <td>IN SERVICE</td>\n",
       "      <td>MENOMINEE</td>\n",
       "      <td>26109</td>\n",
       "      <td>...</td>\n",
       "      <td>http://www.atcllc.com/wp-content/uploads/2014/...</td>\n",
       "      <td>2014-04-07</td>\n",
       "      <td>IMAGERY</td>\n",
       "      <td>2020-03-23</td>\n",
       "      <td>3.0</td>\n",
       "      <td>138.0</td>\n",
       "      <td>-999999.0</td>\n",
       "      <td>N</td>\n",
       "      <td>N</td>\n",
       "      <td>POINT (639897.480 923692.424)</td>\n",
       "    </tr>\n",
       "  </tbody>\n",
       "</table>\n",
       "<p>5 rows × 25 columns</p>\n",
       "</div>"
      ],
      "text/plain": [
       "   OBJECTID      ID                   NAME          CITY STATE    ZIP  \\\n",
       "0         1  107655          UNKNOWN107655    SHELL LAKE    WI  54871   \n",
       "1         2  107656          UNKNOWN107656      PRENTICE    WI  54556   \n",
       "2         3  107657          UNKNOWN107657      HOLCOMBE    WI  54745   \n",
       "3         4  107658  SOUTH SHEBOYGAN FALLS  LIMA TOWN OF    WI  53085   \n",
       "4         5  107659         CHALK HILLS HY       DAGGETT    MI  49821   \n",
       "\n",
       "         TYPE      STATUS     COUNTY COUNTYFIPS  ...  \\\n",
       "0  SUBSTATION  IN SERVICE   WASHBURN      55129  ...   \n",
       "1  SUBSTATION  IN SERVICE      PRICE      55099  ...   \n",
       "2  SUBSTATION  IN SERVICE   CHIPPEWA      55017  ...   \n",
       "3  SUBSTATION  IN SERVICE  SHEBOYGAN      55117  ...   \n",
       "4  SUBSTATION  IN SERVICE  MENOMINEE      26109  ...   \n",
       "\n",
       "                                              SOURCE  SOURCEDATE  VAL_METHOD  \\\n",
       "0  http://psc.wi.gov/lmp_zoneinfo/maps/electricmap...  2014-04-07     IMAGERY   \n",
       "1  http://psc.wi.gov/lmp_zoneinfo/maps/electricmap...  2014-04-07     IMAGERY   \n",
       "2  http://psc.wi.gov/lmp_zoneinfo/maps/electricmap...  2014-04-07     IMAGERY   \n",
       "3  IMAGERY, OpenStreetMap, http://www.atcllc.com/...  2014-04-07     IMAGERY   \n",
       "4  http://www.atcllc.com/wp-content/uploads/2014/...  2014-04-07     IMAGERY   \n",
       "\n",
       "     VAL_DATE LINES MAX_VOLT  MIN_VOLT MAX_INFER MIN_INFER  \\\n",
       "0  2015-08-28   5.0    161.0      69.0         N         Y   \n",
       "1  2015-08-28   3.0    115.0      69.0         N         Y   \n",
       "2  2015-08-28   4.0    115.0 -999999.0         N         N   \n",
       "3  2018-09-11   3.0    138.0      69.0         Y         Y   \n",
       "4  2020-03-23   3.0    138.0 -999999.0         N         N   \n",
       "\n",
       "                        geometry  \n",
       "0  POINT (321804.304 931364.975)  \n",
       "1  POINT (444056.365 912112.182)  \n",
       "2  POINT (382227.045 873605.053)  \n",
       "3  POINT (654201.704 723404.723)  \n",
       "4  POINT (639897.480 923692.424)  \n",
       "\n",
       "[5 rows x 25 columns]"
      ]
     },
     "execution_count": 11,
     "metadata": {},
     "output_type": "run_result"
    }
   ],
   "source": [
    "gdf.head()"
   ]
  },
  {
   "cell_type": "code",
   "execution_count": 12,
   "metadata": {},
   "outputs": [],
   "source": [
    "\n",
    "with open(states_file, 'r') as yml:\n",
    "    states = yaml.load(yml, Loader=yaml.FullLoader)\n",
    "\n",
    "\n",
    "gxf = gdf.loc[(gdf['TYPE'] == 'SUBSTATION') &\n",
    "                       (gdf['STATE'].isin(states.keys())) &\n",
    "                       (gdf['STATUS'].isin(('IN SERVICE', 'UNDER CONST')))].copy()\n"
   ]
  },
  {
   "cell_type": "code",
   "execution_count": 13,
   "metadata": {},
   "outputs": [],
   "source": [
    "gdf = gxf.copy()\n",
    "\n",
    "gdf['_rval_'] = 0\n",
    "gdf['_rval_'] = np.where((gdf['MIN_VOLT'] >= -99999999) & (gdf['MIN_VOLT'] < 100), 678, gdf['_rval_'])\n",
    "gdf['_rval_'] = np.where((gdf['MIN_VOLT'] >= 100) & (gdf['MIN_VOLT'] < 120), 756, gdf['_rval_'])\n",
    "gdf['_rval_'] = np.where((gdf['MIN_VOLT'] >= 120) & (gdf['MIN_VOLT'] < 150), 791, gdf['_rval_'])\n",
    "gdf['_rval_'] = np.where((gdf['MIN_VOLT'] >= 150) & (gdf['MIN_VOLT'] < 170), 808, gdf['_rval_'])\n",
    "gdf['_rval_'] = np.where((gdf['MIN_VOLT'] >= 170) & (gdf['MIN_VOLT'] < 300), 863, gdf['_rval_'])\n",
    "gdf['_rval_'] = np.where((gdf['MIN_VOLT'] >= 300) & (gdf['MIN_VOLT'] < 400), 1380, gdf['_rval_'])\n",
    "gdf['_rval_'] = np.where((gdf['MIN_VOLT'] >= 400) & (gdf['MIN_VOLT'] < 99999999), 1458, gdf['_rval_'])\n"
   ]
  },
  {
   "cell_type": "code",
   "execution_count": 15,
   "metadata": {},
   "outputs": [],
   "source": [
    "\n",
    "\n",
    "gdf[['_rval_', 'geometry']].to_file('/Users/d3y010/repos/github/cerf/cerf/data/hifld_substations_conus_albers.shp')\n"
   ]
  },
  {
   "cell_type": "code",
   "execution_count": 6,
   "metadata": {},
   "outputs": [],
   "source": [
    "transmission_gdf = gdf.copy()"
   ]
  },
  {
   "cell_type": "code",
   "execution_count": 7,
   "metadata": {},
   "outputs": [],
   "source": [
    "output_rast = '/Users/d3y010/Desktop/rast.tif'\n",
    "output_dist = '/Users/d3y010/Desktop/dist.tif'\n",
    "output_alloc = '/Users/d3y010/Desktop/alloc.tif'\n",
    "output_transmission_cost_file = '/Users/d3y010/Desktop/trans.tif'\n"
   ]
  },
  {
   "cell_type": "code",
   "execution_count": 8,
   "metadata": {},
   "outputs": [],
   "source": [
    "transmission_costs = {1: 678, 2: 756, 3: 791, 4: 808, 5: 863, 6: 1380, 7: 1458}\n"
   ]
  },
  {
   "cell_type": "code",
   "execution_count": null,
   "metadata": {},
   "outputs": [],
   "source": [
    "# instantiate whitebox toolset\n",
    "wbt = whitebox.WhiteboxTools()\n",
    "\n",
    "# get the template raster from CERF data\n",
    "template_raster = pkg_resources.resource_filename('cerf', 'data/cerf_conus_states_albers_1km.tif')\n",
    "\n",
    "\n",
    "\n",
    "with rasterio.open(template_raster) as src:\n",
    "    # create 0 where land array\n",
    "    arr = (src.read(1) * 0).astype(rasterio.float64)\n",
    "\n",
    "    # update metadata datatype to float64\n",
    "    metadata = src.meta.copy()\n",
    "    metadata.update({'dtype': rasterio.float64})\n",
    "\n",
    "    # reproject transmission data\n",
    "    gdf = transmission_gdf.to_crs(src.crs)\n",
    "\n",
    "    # get shapes\n",
    "    shapes = ((geom, value) for geom, value in zip(gdf.geometry, gdf['_rval_']))\n",
    "\n",
    "\n",
    "with tempfile.TemporaryDirectory() as tempdir:\n",
    "    \n",
    "    out_rast = os.path.join(tempdir, 'cerf_transmission_raster.tif')\n",
    "    out_dist = os.path.join(tempdir, 'cerf_transmission_distance.tif')\n",
    "    out_alloc = os.path.join(tempdir, 'cerf_transmission_allocation.tif')\n",
    "    out_costs = os.path.join('/Users/d3y010/Desktop', 'cerf_transmission_costs.tif')\n",
    "\n",
    "    # rasterize transmission vector data and write to memory\n",
    "    with rasterio.open(out_rast, 'w', **metadata) as dataset:\n",
    "\n",
    "        # burn features into raster\n",
    "        burned = features.rasterize(shapes=shapes, fill=0, out=arr, transform=dataset.transform)\n",
    "\n",
    "        # write the outputs to file\n",
    "        dataset.write_band(1, burned)\n",
    "\n",
    "    # calculate Euclidean distance file and write raster; result just stores the return value 0\n",
    "    dist_result = wbt.euclidean_distance(out_rast, out_dist) #, callback=suppress_callback)\n",
    "\n",
    "    alloc_result = wbt.euclidean_allocation(out_rast, out_alloc)\n",
    "\n",
    "    with rasterio.open(out_dist) as dist:\n",
    "        dist_arr = dist.read(1)\n",
    "\n",
    "    with rasterio.open(out_alloc) as alloc:\n",
    "        alloc_arr = alloc.read(1)\n",
    "\n",
    "    with rasterio.open(out_costs, 'w', **metadata) as out:\n",
    "\n",
    "        m_to_km_factor = 0.001\n",
    "\n",
    "        # distance in km * the cost of the nearest substation; outputs $2015/km\n",
    "        cost_arr = (dist_arr * m_to_km_factor) * alloc_arr\n",
    "\n",
    "        out.write(cost_arr, 1)\n"
   ]
  },
  {
   "cell_type": "code",
   "execution_count": null,
   "metadata": {},
   "outputs": [],
   "source": [
    "wbt.euclidean_allocation(output_rast, output_alloc)"
   ]
  },
  {
   "cell_type": "code",
   "execution_count": null,
   "metadata": {},
   "outputs": [],
   "source": []
  },
  {
   "cell_type": "code",
   "execution_count": null,
   "metadata": {},
   "outputs": [],
   "source": []
  },
  {
   "cell_type": "code",
   "execution_count": null,
   "metadata": {},
   "outputs": [],
   "source": [
    "cerf.transmission_to_distance_raster(gdf, substation_raster)\n"
   ]
  },
  {
   "cell_type": "code",
   "execution_count": 34,
   "metadata": {},
   "outputs": [
    {
     "ename": "AttributeError",
     "evalue": "module 'cerf' has no attribute 'process_eia_natural_gas_pipelines'",
     "output_type": "error",
     "traceback": [
      "\u001b[0;31m---------------------------------------------------------------------------\u001b[0m",
      "\u001b[0;31mAttributeError\u001b[0m                            Traceback (most recent call last)",
      "\u001b[0;32m<ipython-input-34-ae106b35c38b>\u001b[0m in \u001b[0;36m<module>\u001b[0;34m\u001b[0m\n\u001b[0;32m----> 1\u001b[0;31m \u001b[0mhelp\u001b[0m\u001b[0;34m(\u001b[0m\u001b[0mcerf\u001b[0m\u001b[0;34m.\u001b[0m\u001b[0mprocess_eia_natural_gas_pipelines\u001b[0m\u001b[0;34m)\u001b[0m\u001b[0;34m\u001b[0m\u001b[0;34m\u001b[0m\u001b[0m\n\u001b[0m",
      "\u001b[0;31mAttributeError\u001b[0m: module 'cerf' has no attribute 'process_eia_natural_gas_pipelines'"
     ]
    }
   ],
   "source": [
    "help(cerf.process_eia_natural_gas_pipelines)"
   ]
  },
  {
   "cell_type": "code",
   "execution_count": 4,
   "metadata": {},
   "outputs": [],
   "source": [
    "gdf = cerf.process_hifld_substations()\n"
   ]
  },
  {
   "cell_type": "code",
   "execution_count": 4,
   "metadata": {},
   "outputs": [],
   "source": [
    "cerf.transmission_to_distance_raster(gdf, substation_raster)\n"
   ]
  },
  {
   "cell_type": "code",
   "execution_count": null,
   "metadata": {},
   "outputs": [],
   "source": []
  },
  {
   "cell_type": "code",
   "execution_count": null,
   "metadata": {},
   "outputs": [],
   "source": []
  },
  {
   "cell_type": "code",
   "execution_count": null,
   "metadata": {},
   "outputs": [],
   "source": []
  },
  {
   "cell_type": "code",
   "execution_count": 26,
   "metadata": {},
   "outputs": [
    {
     "data": {
      "text/plain": [
       "rasterio.crs.CRS"
      ]
     },
     "execution_count": 26,
     "metadata": {},
     "output_type": "run_result"
    }
   ],
   "source": [
    "type(target_crs)"
   ]
  },
  {
   "cell_type": "code",
   "execution_count": 24,
   "metadata": {},
   "outputs": [
    {
     "data": {
      "text/plain": [
       "CRS.from_wkt('PROJCS[\"USA_Contiguous_Albers_Equal_Area_Conic\",GEOGCS[\"NAD83\",DATUM[\"North_American_Datum_1983\",SPHEROID[\"GRS 1980\",6378137,298.257222101004,AUTHORITY[\"EPSG\",\"7019\"]],AUTHORITY[\"EPSG\",\"6269\"]],PRIMEM[\"Greenwich\",0],UNIT[\"degree\",0.0174532925199433,AUTHORITY[\"EPSG\",\"9122\"]],AUTHORITY[\"EPSG\",\"4269\"]],PROJECTION[\"Albers_Conic_Equal_Area\"],PARAMETER[\"latitude_of_center\",37.5],PARAMETER[\"longitude_of_center\",-96],PARAMETER[\"standard_parallel_1\",29.5],PARAMETER[\"standard_parallel_2\",45.5],PARAMETER[\"false_easting\",0],PARAMETER[\"false_northing\",0],UNIT[\"metre\",1,AUTHORITY[\"EPSG\",\"9001\"]],AXIS[\"Easting\",EAST],AXIS[\"Northing\",NORTH]]')"
      ]
     },
     "execution_count": 24,
     "metadata": {},
     "output_type": "run_result"
    }
   ],
   "source": [
    "target_crs"
   ]
  },
  {
   "cell_type": "code",
   "execution_count": 25,
   "metadata": {},
   "outputs": [],
   "source": [
    "import pickle\n",
    "\n",
    "pickle.dump(target_crs, open('/Users/d3y010/repos/github/cerf/cerf/data/crs_usa_contiguous_albers_equal_area_conic.p', 'wb'))"
   ]
  },
  {
   "cell_type": "code",
   "execution_count": null,
   "metadata": {},
   "outputs": [],
   "source": []
  },
  {
   "cell_type": "code",
   "execution_count": 12,
   "metadata": {},
   "outputs": [],
   "source": [
    "with rasterio.open(template_raster) as src:\n",
    "    \n",
    "    target_crs = src.crs\n",
    "    \n",
    "\n",
    "    "
   ]
  },
  {
   "cell_type": "code",
   "execution_count": 22,
   "metadata": {},
   "outputs": [
    {
     "data": {
      "text/html": [
       "<div>\n",
       "<style scoped>\n",
       "    .dataframe tbody tr th:only-of-type {\n",
       "        vertical-align: middle;\n",
       "    }\n",
       "\n",
       "    .dataframe tbody tr th {\n",
       "        vertical-align: top;\n",
       "    }\n",
       "\n",
       "    .dataframe thead th {\n",
       "        text-align: right;\n",
       "    }\n",
       "</style>\n",
       "<table border=\"1\" class=\"dataframe\">\n",
       "  <thead>\n",
       "    <tr style=\"text-align: right;\">\n",
       "      <th></th>\n",
       "      <th>TYPEPIPE</th>\n",
       "      <th>Operator</th>\n",
       "      <th>Status</th>\n",
       "      <th>Shape_Leng</th>\n",
       "      <th>geometry</th>\n",
       "    </tr>\n",
       "  </thead>\n",
       "  <tbody>\n",
       "    <tr>\n",
       "      <th>0</th>\n",
       "      <td>Intrastate</td>\n",
       "      <td>Texas Intrastate Pipeline Co</td>\n",
       "      <td>Operating</td>\n",
       "      <td>0.001540</td>\n",
       "      <td>LINESTRING (135389.070 -873975.050, 135491.564...</td>\n",
       "    </tr>\n",
       "    <tr>\n",
       "      <th>1</th>\n",
       "      <td>Intrastate</td>\n",
       "      <td>Texas Intrastate Pipeline Co</td>\n",
       "      <td>Operating</td>\n",
       "      <td>0.005666</td>\n",
       "      <td>LINESTRING (134842.306 -874020.789, 135389.070...</td>\n",
       "    </tr>\n",
       "    <tr>\n",
       "      <th>2</th>\n",
       "      <td>Intrastate</td>\n",
       "      <td>Texas Intrastate Pipeline Co</td>\n",
       "      <td>Operating</td>\n",
       "      <td>0.050463</td>\n",
       "      <td>LINESTRING (137390.391 -880907.052, 139246.403...</td>\n",
       "    </tr>\n",
       "    <tr>\n",
       "      <th>3</th>\n",
       "      <td>Intrastate</td>\n",
       "      <td>Texas Intrastate Pipeline Co</td>\n",
       "      <td>Operating</td>\n",
       "      <td>0.003288</td>\n",
       "      <td>LINESTRING (139246.403 -886091.229, 139563.340...</td>\n",
       "    </tr>\n",
       "    <tr>\n",
       "      <th>4</th>\n",
       "      <td>Intrastate</td>\n",
       "      <td>Texas Intrastate Pipeline Co</td>\n",
       "      <td>Operating</td>\n",
       "      <td>0.004257</td>\n",
       "      <td>LINESTRING (139246.403 -886091.229, 138853.103...</td>\n",
       "    </tr>\n",
       "  </tbody>\n",
       "</table>\n",
       "</div>"
      ],
      "text/plain": [
       "     TYPEPIPE                      Operator     Status  Shape_Leng  \\\n",
       "0  Intrastate  Texas Intrastate Pipeline Co  Operating    0.001540   \n",
       "1  Intrastate  Texas Intrastate Pipeline Co  Operating    0.005666   \n",
       "2  Intrastate  Texas Intrastate Pipeline Co  Operating    0.050463   \n",
       "3  Intrastate  Texas Intrastate Pipeline Co  Operating    0.003288   \n",
       "4  Intrastate  Texas Intrastate Pipeline Co  Operating    0.004257   \n",
       "\n",
       "                                            geometry  \n",
       "0  LINESTRING (135389.070 -873975.050, 135491.564...  \n",
       "1  LINESTRING (134842.306 -874020.789, 135389.070...  \n",
       "2  LINESTRING (137390.391 -880907.052, 139246.403...  \n",
       "3  LINESTRING (139246.403 -886091.229, 139563.340...  \n",
       "4  LINESTRING (139246.403 -886091.229, 138853.103...  "
      ]
     },
     "execution_count": 22,
     "metadata": {},
     "output_type": "run_result"
    }
   ],
   "source": [
    "xdf = gpd.read_file(natgas_file).to_crs(target_crs)\n",
    "\n",
    "xdf.head()\n"
   ]
  },
  {
   "cell_type": "code",
   "execution_count": 23,
   "metadata": {},
   "outputs": [],
   "source": [
    "# only keep features with a length > 0\n",
    "xdf = xdf.loc[xdf.geometry.length > 0].copy()\n",
    "\n"
   ]
  },
  {
   "cell_type": "code",
   "execution_count": 24,
   "metadata": {},
   "outputs": [],
   "source": [
    "xdf = xdf.loc[xdf['Status'] == 'Operating'].copy()\n",
    "\n",
    "\n",
    "xdf['_rval_'] = 737"
   ]
  },
  {
   "cell_type": "code",
   "execution_count": null,
   "metadata": {},
   "outputs": [],
   "source": []
  },
  {
   "cell_type": "code",
   "execution_count": 25,
   "metadata": {},
   "outputs": [],
   "source": [
    "xdf[['_rval_', 'geometry']].to_file('/Users/d3y010/projects/cerf/data/eia_natural_gas_pipelines_conus_albers.shp')\n",
    "                          "
   ]
  },
  {
   "cell_type": "code",
   "execution_count": null,
   "metadata": {},
   "outputs": [],
   "source": []
  },
  {
   "cell_type": "code",
   "execution_count": 11,
   "metadata": {},
   "outputs": [],
   "source": [
    "with rasterio.open(template_raster) as src:\n",
    "    target_crs = src.crs\n"
   ]
  },
  {
   "cell_type": "code",
   "execution_count": 13,
   "metadata": {},
   "outputs": [],
   "source": [
    "with open(states_file, 'r') as yml:\n",
    "    states = yaml.load(yml, Loader=yaml.FullLoader)\n"
   ]
  },
  {
   "cell_type": "code",
   "execution_count": 14,
   "metadata": {},
   "outputs": [],
   "source": [
    "gdf = gpd.read_file(original_file)\n"
   ]
  },
  {
   "cell_type": "code",
   "execution_count": 15,
   "metadata": {},
   "outputs": [],
   "source": [
    "# keep only substations in the CONUS that are either in service or under construction\n",
    "gdf = gdf.loc[(gdf['TYPE'] == 'SUBSTATION') & \n",
    "              (gdf['STATE'].isin(states.keys())) &\n",
    "              (gdf['STATUS'].isin(('IN SERVICE', 'UNDER CONST')))].copy()\n",
    "\n",
    "# set field to be used as raster value\n",
    "gdf['value'] = 1\n"
   ]
  },
  {
   "cell_type": "code",
   "execution_count": 19,
   "metadata": {},
   "outputs": [],
   "source": [
    "xdf = gdf[['geometry']].copy()\n",
    "xdf = xdf.to_crs(target_crs)\n",
    "\n",
    "\n",
    "xdf.to_file('/Users/d3y010/projects/cerf/data/hifld_substations_conus_albers.shp')\n"
   ]
  },
  {
   "cell_type": "code",
   "execution_count": null,
   "metadata": {},
   "outputs": [],
   "source": []
  },
  {
   "cell_type": "code",
   "execution_count": 16,
   "metadata": {},
   "outputs": [],
   "source": [
    "with rasterio.open(template_raster) as src:\n",
    "    \n",
    "    # create 0 where land array\n",
    "    arr = src.read(1) * 0\n",
    "    \n",
    "    metadata = src.meta.copy()\n",
    "    target_crs = src.crs\n",
    "    \n",
    "    with rasterio.open(substation_raster, 'w', **metadata) as out:\n",
    "\n",
    "        # reproject transmission data\n",
    "        gdf = gdf.to_crs(target_crs)\n",
    "\n",
    "        # get shapes\n",
    "        shapes = ((geom, value) for geom, value in zip(gdf.geometry, gdf['value']))\n",
    "\n",
    "        # burn shapes\n",
    "        burned = features.rasterize(shapes=shapes, fill=0, out=arr, transform=out.transform)\n",
    "\n",
    "        out.write_band(1, burned)\n"
   ]
  },
  {
   "cell_type": "code",
   "execution_count": 46,
   "metadata": {},
   "outputs": [],
   "source": [
    "from rasterio.io import MemoryFile\n",
    "from rasterio.plot import show\n",
    "import tempfile\n",
    "\n",
    "\n",
    "def suppress_callback(value):\n",
    "    \"\"\"Do not log callback output for whitebox functions.\"\"\"\n",
    "    \n",
    "    pass\n",
    "\n",
    "\n",
    "\n",
    "with tempfile.NamedTemporaryFile(suffix='.tif') as temp:\n",
    "\n",
    "    with rasterio.open(template_raster) as src:\n",
    "\n",
    "        # create 0 where land array\n",
    "        arr = src.read(1) * 0\n",
    "\n",
    "        metadata = src.meta.copy()\n",
    "        \n",
    "        # reproject transmission data\n",
    "        gdf = gdf.to_crs(src.crs)\n",
    "\n",
    "        # get shapes\n",
    "        shapes = ((geom, value) for geom, value in zip(gdf.geometry, gdf['_rval_']))\n",
    "\n",
    "    # rasterize transmission vector data and save to memory\n",
    "    with rasterio.open(temp.name, 'w', **metadata) as dataset:\n",
    "\n",
    "        # burn features into raster\n",
    "        burned = features.rasterize(shapes=shapes, fill=0, out=arr, transform=dataset.transform)\n",
    "\n",
    "        # write the outputs to file\n",
    "        dataset.write_band(1, burned)\n",
    "\n",
    "    # calculate Euclidean distance file and write raster; result just stores the return value 0\n",
    "    result = wbt.euclidean_distance(temp.name, substation_raster, callback=suppress_callback)\n",
    "\n"
   ]
  },
  {
   "cell_type": "code",
   "execution_count": 30,
   "metadata": {},
   "outputs": [
    {
     "data": {
      "text/plain": [
       "['/vsimem/b8cb4085-dcb9-4f53-bbd4-2171a4a98df5/b8cb4085-dcb9-4f53-bbd4-2171a4a98df5.tif']"
      ]
     },
     "execution_count": 30,
     "metadata": {},
     "output_type": "run_result"
    }
   ],
   "source": [
    "dataset."
   ]
  },
  {
   "cell_type": "code",
   "execution_count": null,
   "metadata": {},
   "outputs": [],
   "source": []
  },
  {
   "cell_type": "code",
   "execution_count": 22,
   "metadata": {},
   "outputs": [],
   "source": [
    "t = tempfile.NamedTemporaryFile()\n"
   ]
  },
  {
   "cell_type": "code",
   "execution_count": 23,
   "metadata": {},
   "outputs": [
    {
     "name": "stdout",
     "output_type": "stream",
     "text": [
      "/var/folders/1q/kbqf0s_90m907n320mhb_gq46y9fxr/T/tmpnv4hwuep\n"
     ]
    }
   ],
   "source": [
    "print(t.name)\n",
    "t.close()"
   ]
  },
  {
   "cell_type": "code",
   "execution_count": 25,
   "metadata": {},
   "outputs": [],
   "source": [
    "\n",
    "def suppress_callback(value):\n",
    "    \"\"\"Do not log callback output for whitebox functions.\"\"\"\n",
    "    \n",
    "    pass\n",
    "\n",
    "# value of v will be 0 if succ\n",
    "v = wbt.euclidean_distance(\n",
    "    substation_raster, \n",
    "    '/Users/d3y010/Desktop/euclidean_distance.tif',\n",
    "    callback=suppress_callback\n",
    ")\n"
   ]
  },
  {
   "cell_type": "code",
   "execution_count": null,
   "metadata": {},
   "outputs": [],
   "source": [
    "output_units='km'\n",
    "\n",
    "    :param output_units:                        Units of distance. Default is kilometers (km).  Alternate options\n",
    "                                                are miles (mile) and meters (m).\n",
    "    :type output_units:                         str\n",
    "            \n",
    "            \n",
    "# get conversion factor for native units of meters\n",
    "units_lowercase = output_units.lower()\n",
    "if units_lowercase == 'km':\n",
    "    conversion_factor = 0.001\n",
    "elif units_lowercase == 'mile':\n",
    "    conversion_factor = 0.000621371\n",
    "elif units_lowercase == 'm':\n",
    "    conversion_factor = 1\n",
    "else:\n",
    "    raise KeyError(f\"'output_units' must be in 'km' or 'mile'. Option '{output_units}' not supported.\")\n"
   ]
  },
  {
   "cell_type": "code",
   "execution_count": null,
   "metadata": {},
   "outputs": [],
   "source": []
  },
  {
   "cell_type": "code",
   "execution_count": null,
   "metadata": {},
   "outputs": [],
   "source": []
  },
  {
   "cell_type": "code",
   "execution_count": null,
   "metadata": {},
   "outputs": [],
   "source": []
  },
  {
   "cell_type": "code",
   "execution_count": null,
   "metadata": {},
   "outputs": [],
   "source": []
  },
  {
   "cell_type": "markdown",
   "metadata": {},
   "source": [
    "## finalize lmp module"
   ]
  },
  {
   "cell_type": "code",
   "execution_count": null,
   "metadata": {},
   "outputs": [],
   "source": []
  },
  {
   "cell_type": "markdown",
   "metadata": {},
   "source": [
    "## finalize read the docs"
   ]
  },
  {
   "cell_type": "code",
   "execution_count": null,
   "metadata": {},
   "outputs": [],
   "source": []
  },
  {
   "cell_type": "markdown",
   "metadata": {},
   "source": [
    "## regenerate figure for paper"
   ]
  },
  {
   "cell_type": "code",
   "execution_count": null,
   "metadata": {},
   "outputs": [],
   "source": []
  },
  {
   "cell_type": "markdown",
   "metadata": {},
   "source": [
    "## metarepo"
   ]
  },
  {
   "cell_type": "code",
   "execution_count": null,
   "metadata": {},
   "outputs": [],
   "source": []
  },
  {
   "cell_type": "markdown",
   "metadata": {},
   "source": [
    "## finalize tutorial"
   ]
  },
  {
   "cell_type": "code",
   "execution_count": null,
   "metadata": {},
   "outputs": [],
   "source": []
  },
  {
   "cell_type": "markdown",
   "metadata": {},
   "source": [
    "## cerf on pypy"
   ]
  },
  {
   "cell_type": "code",
   "execution_count": null,
   "metadata": {},
   "outputs": [],
   "source": []
  },
  {
   "cell_type": "code",
   "execution_count": null,
   "metadata": {},
   "outputs": [],
   "source": []
  },
  {
   "cell_type": "code",
   "execution_count": null,
   "metadata": {},
   "outputs": [],
   "source": []
  },
  {
   "cell_type": "code",
   "execution_count": 1,
   "metadata": {
    "tags": []
   },
   "outputs": [],
   "source": [
    "import os\n",
    "\n",
    "import rasterio\n"
   ]
  },
  {
   "cell_type": "code",
   "execution_count": 3,
   "metadata": {
    "collapsed": false,
    "jupyter": {
     "outputs_hidden": false
    },
    "pycharm": {
     "name": "#%%\n"
    }
   },
   "outputs": [],
   "source": [
    "sdf = gpd.read_file('/Users/d3y010/projects/cerf/data/eia/shp/cerf_substations_clean.shp')"
   ]
  },
  {
   "cell_type": "code",
   "execution_count": 4,
   "metadata": {
    "collapsed": false,
    "jupyter": {
     "outputs_hidden": false
    },
    "pycharm": {
     "name": "#%%\n"
    }
   },
   "outputs": [
    {
     "data": {
      "text/html": [
       "<div>\n",
       "<style scoped>\n",
       "    .dataframe tbody tr th:only-of-type {\n",
       "        vertical-align: middle;\n",
       "    }\n",
       "\n",
       "    .dataframe tbody tr th {\n",
       "        vertical-align: top;\n",
       "    }\n",
       "\n",
       "    .dataframe thead th {\n",
       "        text-align: right;\n",
       "    }\n",
       "</style>\n",
       "<table border=\"1\" class=\"dataframe\">\n",
       "  <thead>\n",
       "    <tr style=\"text-align: right;\">\n",
       "      <th></th>\n",
       "      <th>NAME</th>\n",
       "      <th>TYPE</th>\n",
       "      <th>STATUS</th>\n",
       "      <th>MAX_VOLT</th>\n",
       "      <th>MIN_VOLT</th>\n",
       "      <th>geometry</th>\n",
       "    </tr>\n",
       "  </thead>\n",
       "  <tbody>\n",
       "    <tr>\n",
       "      <th>0</th>\n",
       "      <td>UNKNOWN107655</td>\n",
       "      <td>SUBSTATION</td>\n",
       "      <td>IN SERVICE</td>\n",
       "      <td>161.0</td>\n",
       "      <td>69.0</td>\n",
       "      <td>POINT (-10226336.565 5743316.246)</td>\n",
       "    </tr>\n",
       "    <tr>\n",
       "      <th>1</th>\n",
       "      <td>UNKNOWN107656</td>\n",
       "      <td>SUBSTATION</td>\n",
       "      <td>IN SERVICE</td>\n",
       "      <td>115.0</td>\n",
       "      <td>69.0</td>\n",
       "      <td>POINT (-10053464.958 5706699.742)</td>\n",
       "    </tr>\n",
       "    <tr>\n",
       "      <th>2</th>\n",
       "      <td>UNKNOWN107657</td>\n",
       "      <td>SUBSTATION</td>\n",
       "      <td>IN SERVICE</td>\n",
       "      <td>115.0</td>\n",
       "      <td>-999999.0</td>\n",
       "      <td>POINT (-10144276.066 5656784.281)</td>\n",
       "    </tr>\n",
       "    <tr>\n",
       "      <th>3</th>\n",
       "      <td>SOUTH SHEBOYGAN FALLS</td>\n",
       "      <td>SUBSTATION</td>\n",
       "      <td>IN SERVICE</td>\n",
       "      <td>138.0</td>\n",
       "      <td>69.0</td>\n",
       "      <td>POINT (-9778125.514 5420826.129)</td>\n",
       "    </tr>\n",
       "    <tr>\n",
       "      <th>4</th>\n",
       "      <td>CHALK HILLS HY</td>\n",
       "      <td>SUBSTATION</td>\n",
       "      <td>IN SERVICE</td>\n",
       "      <td>138.0</td>\n",
       "      <td>-999999.0</td>\n",
       "      <td>POINT (-9773953.789 5702771.663)</td>\n",
       "    </tr>\n",
       "  </tbody>\n",
       "</table>\n",
       "</div>"
      ],
      "text/plain": [
       "                    NAME        TYPE      STATUS  MAX_VOLT  MIN_VOLT  \\\n",
       "0          UNKNOWN107655  SUBSTATION  IN SERVICE     161.0      69.0   \n",
       "1          UNKNOWN107656  SUBSTATION  IN SERVICE     115.0      69.0   \n",
       "2          UNKNOWN107657  SUBSTATION  IN SERVICE     115.0 -999999.0   \n",
       "3  SOUTH SHEBOYGAN FALLS  SUBSTATION  IN SERVICE     138.0      69.0   \n",
       "4         CHALK HILLS HY  SUBSTATION  IN SERVICE     138.0 -999999.0   \n",
       "\n",
       "                            geometry  \n",
       "0  POINT (-10226336.565 5743316.246)  \n",
       "1  POINT (-10053464.958 5706699.742)  \n",
       "2  POINT (-10144276.066 5656784.281)  \n",
       "3   POINT (-9778125.514 5420826.129)  \n",
       "4   POINT (-9773953.789 5702771.663)  "
      ]
     },
     "execution_count": 4,
     "metadata": {},
     "output_type": "run_result"
    }
   ],
   "source": [
    "sdf.head()"
   ]
  },
  {
   "cell_type": "code",
   "execution_count": null,
   "metadata": {
    "collapsed": false,
    "jupyter": {
     "outputs_hidden": false
    },
    "pycharm": {
     "name": "#%%\n"
    }
   },
   "outputs": [],
   "source": []
  }
 ],
 "metadata": {
  "kernelspec": {
   "display_name": "py3.9.4_cerf",
   "language": "python",
   "name": "py3.9.4_cerf"
  },
  "language_info": {
   "codemirror_mode": {
    "name": "ipython",
    "version": 3
   },
   "file_extension": ".py",
   "mimetype": "text/x-python",
   "name": "python",
   "nbconvert_exporter": "python",
   "pygments_lexer": "ipython3",
   "version": "3.9.4"
  }
 },
 "nbformat": 4,
 "nbformat_minor": 4
}
