{
 "cells": [
  {
   "cell_type": "code",
   "execution_count": 1,
   "metadata": {},
   "outputs": [
    {
     "ename": "ModuleNotFoundError",
     "evalue": "No module named 'osmnx'",
     "output_type": "error",
     "traceback": [
      "\u001b[0;31m---------------------------------------------------------------------------\u001b[0m",
      "\u001b[0;31mModuleNotFoundError\u001b[0m                       Traceback (most recent call last)",
      "\u001b[0;32m<ipython-input-1-7ec472c56a33>\u001b[0m in \u001b[0;36m<module>\u001b[0;34m\u001b[0m\n\u001b[1;32m      4\u001b[0m \u001b[0;32mimport\u001b[0m \u001b[0mtime\u001b[0m\u001b[0;34m\u001b[0m\u001b[0;34m\u001b[0m\u001b[0m\n\u001b[1;32m      5\u001b[0m \u001b[0;34m\u001b[0m\u001b[0m\n\u001b[0;32m----> 6\u001b[0;31m \u001b[0;32mimport\u001b[0m \u001b[0mosmnx\u001b[0m \u001b[0;32mas\u001b[0m \u001b[0mox\u001b[0m\u001b[0;34m\u001b[0m\u001b[0;34m\u001b[0m\u001b[0m\n\u001b[0m\u001b[1;32m      7\u001b[0m \u001b[0;34m\u001b[0m\u001b[0m\n\u001b[1;32m      8\u001b[0m \u001b[0;32mimport\u001b[0m \u001b[0mnumpy\u001b[0m \u001b[0;32mas\u001b[0m \u001b[0mnp\u001b[0m\u001b[0;34m\u001b[0m\u001b[0;34m\u001b[0m\u001b[0m\n",
      "\u001b[0;31mModuleNotFoundError\u001b[0m: No module named 'osmnx'"
     ]
    }
   ],
   "source": [
    "%matplotlib inline\n",
    "\n",
    "import os\n",
    "import time\n",
    "\n",
    "import osmnx as ox\n",
    "\n",
    "import numpy as np\n",
    "import pandas as pd\n",
    "import geopandas as gpd\n",
    "import rasterio\n",
    "from shapely.geometry import Point, Polygon\n",
    "\n",
    "import multiprocessing as mp\n",
    "\n"
   ]
  },
  {
   "cell_type": "code",
   "execution_count": 3,
   "metadata": {},
   "outputs": [],
   "source": [
    "import numpy as np\n",
    "\n",
    "import rasterio\n"
   ]
  },
  {
   "cell_type": "code",
   "execution_count": 7,
   "metadata": {},
   "outputs": [],
   "source": [
    "out = '/Users/d3y010/repos/github/cerf/cerf/data/hifld_substation_230kv_dist_km.npy'"
   ]
  },
  {
   "cell_type": "code",
   "execution_count": 4,
   "metadata": {},
   "outputs": [],
   "source": [
    "f = '/Users/d3y010/repos/github/cerf/cerf/data/hifld_substation_230kv_dist_m.tif'\n",
    "\n",
    "# load distance to suitable transmission infrastructure raster\n",
    "with rasterio.open(f) as src:\n",
    "    ic_dist_km_arr = src.read(1) / 1000  # convert meters to km\n",
    "\n",
    "\n"
   ]
  },
  {
   "cell_type": "code",
   "execution_count": 8,
   "metadata": {},
   "outputs": [],
   "source": [
    "np.save(out, ic_dist_km_arr)\n"
   ]
  },
  {
   "cell_type": "code",
   "execution_count": 10,
   "metadata": {},
   "outputs": [
    {
     "data": {
      "text/plain": [
       "1151.4026"
      ]
     },
     "execution_count": 10,
     "metadata": {},
     "output_type": "run_result"
    }
   ],
   "source": [
    "np.max(ic_dist_km_arr)"
   ]
  },
  {
   "cell_type": "code",
   "execution_count": null,
   "metadata": {},
   "outputs": [],
   "source": []
  },
  {
   "cell_type": "markdown",
   "metadata": {},
   "source": [
    "# File setup"
   ]
  },
  {
   "cell_type": "code",
   "execution_count": 2,
   "metadata": {},
   "outputs": [],
   "source": [
    "fishnet_file = '/Users/d3y010/projects/cerf/data/suitability/prep_v2/shp/fishnet_1km_albers.shp'\n",
    "\n",
    "target_data_file = '/Users/d3y010/projects/cerf/data/suitability/prep_v2/shp/AL_Wetlands.shp'"
   ]
  },
  {
   "cell_type": "markdown",
   "metadata": {},
   "source": [
    "# Read in target data and reproject to the CRS of the fishnet data"
   ]
  },
  {
   "cell_type": "code",
   "execution_count": 3,
   "metadata": {},
   "outputs": [],
   "source": [
    "# read in target polygon data and only keep the geometry\n",
    "target_gdf = gpd.read_file(target_data_file)[['geometry']]\n",
    "\n",
    "# only read in 1 row of the fishnet just to get the coordinate system; \n",
    "#  saves time instead of importing the whole thing at this point\n",
    "fishnet_crs = gpd.read_file(fishnet_file, rows=1).crs\n",
    "\n",
    "# reproject the target data; this takes a while\n",
    "target_gdf = target_gdf.to_crs(fishnet_crs)\n",
    "\n"
   ]
  },
  {
   "cell_type": "markdown",
   "metadata": {},
   "source": [
    "# Read in the fishnet polygons that intersect the bounding box of the target data.  This is done to speed up the load process."
   ]
  },
  {
   "cell_type": "markdown",
   "metadata": {},
   "source": [
    "### Construct a geodataframe from the bounding box coordinates\n"
   ]
  },
  {
   "cell_type": "code",
   "execution_count": 4,
   "metadata": {},
   "outputs": [],
   "source": [
    "bbox = target_gdf.total_bounds\n",
    "\n",
    "p1 = Point(bbox[0], bbox[3])\n",
    "p2 = Point(bbox[2], bbox[3])\n",
    "p3 = Point(bbox[2], bbox[1])\n",
    "p4 = Point(bbox[0], bbox[1])\n",
    "\n",
    "np1 = (p1.coords.xy[0][0], p1.coords.xy[1][0])\n",
    "np2 = (p2.coords.xy[0][0], p2.coords.xy[1][0])\n",
    "np3 = (p3.coords.xy[0][0], p3.coords.xy[1][0])\n",
    "np4 = (p4.coords.xy[0][0], p4.coords.xy[1][0])\n",
    "\n",
    "bbox_polygon = Polygon([np1, np2, np3, np4])\n"
   ]
  },
  {
   "cell_type": "markdown",
   "metadata": {},
   "source": [
    "### Read in the features from the fishnet data that are in the bounding box of the target data"
   ]
  },
  {
   "cell_type": "code",
   "execution_count": 5,
   "metadata": {},
   "outputs": [],
   "source": [
    "fishnet_gdf = gpd.read_file(fishnet_file, bbox=bbox_polygon)"
   ]
  },
  {
   "cell_type": "code",
   "execution_count": 6,
   "metadata": {},
   "outputs": [],
   "source": [
    "def get_data(fishnet_gdf, target_gdf, fishnet_id):\n",
    "    \"\"\"Return the total area of all target features in a single fishnet polygon.\n",
    "    \n",
    "    :returns:           The total area in square meters of the target features that are in the \n",
    "                        fishnet polygon after being clipped\n",
    "            \n",
    "    \"\"\"\n",
    "    \n",
    "    # subset the fishnet data frame by the target id\n",
    "    xdf = fishnet_gdf.loc[fishnet_gdf['id'] == fishnet_id].copy()\n",
    "    \n",
    "    # create R-Tree spatial index\n",
    "    sindex = target_gdf.sindex\n",
    "    \n",
    "    # find possible matches\n",
    "    possible_matches_index = list(sindex.intersection(xdf.geometry.bounds.values[0]))\n",
    "    possible_matches = target_gdf.iloc[possible_matches_index].copy()\n",
    "    \n",
    "    # account for invalid geometries\n",
    "    possible_matches['geometry'] = possible_matches.geometry.buffer(0)\n",
    "    \n",
    "    # clip the target data to the fishnet polygon of interest\n",
    "    clipped_gdf = gpd.clip(possible_matches, mask=xdf)\n",
    "    \n",
    "    # recalculate the area of the clipped features\n",
    "    clipped_gdf['sqm'] = clipped_gdf.area\n",
    "    \n",
    "    return {fishnet_id: clipped_gdf.sqm.sum()}\n",
    "    \n",
    "    \n",
    "    \n",
    "    "
   ]
  },
  {
   "cell_type": "code",
   "execution_count": 7,
   "metadata": {},
   "outputs": [],
   "source": [
    "def get_data_apply(xdf, target_gdf):\n",
    "    \"\"\"Return the total area of all target features in a single fishnet polygon.\n",
    "    \n",
    "    :returns:           The total area in square meters of the target features that are in the \n",
    "                        fishnet polygon after being clipped\n",
    "            \n",
    "    \"\"\"\n",
    "    \n",
    "    # create R-Tree spatial index\n",
    "    sindex = target_gdf.sindex\n",
    "    \n",
    "    # find possible matches\n",
    "    possible_matches_index = list(sindex.intersection(xdf.geometry.bounds))\n",
    "    possible_matches = target_gdf.iloc[possible_matches_index].copy()\n",
    "    \n",
    "    # repair geometry if broken\n",
    "    try:\n",
    "    \n",
    "        # clip the target data to the fishnet polygon of interest\n",
    "        clipped_gdf = gpd.clip(possible_matches, mask=xdf.geometry)\n",
    "        \n",
    "    except:\n",
    "\n",
    "        # account for invalid geometries\n",
    "        possible_matches['geometry'] = possible_matches.geometry.buffer(-0.000001)\n",
    "\n",
    "        # clip the target data to the fishnet polygon of interest\n",
    "        clipped_gdf = gpd.clip(possible_matches, mask=xdf.geometry)\n",
    "    \n",
    "    # recalculate the area of the clipped features\n",
    "    clipped_gdf['sqm'] = clipped_gdf.area\n",
    "    \n",
    "    return clipped_gdf.sqm.sum()"
   ]
  },
  {
   "cell_type": "code",
   "execution_count": 8,
   "metadata": {},
   "outputs": [],
   "source": [
    "def getit(fishnet_gdf_subset, target_gdf):\n",
    "    \n",
    "    fishnet_gdf_subset['sqm_target'] = fishnet_gdf_subset.apply(lambda x: get_data_apply(x, target_gdf), axis=1)\n",
    "    \n",
    "    return fishnet_gdf_subset\n"
   ]
  },
  {
   "cell_type": "code",
   "execution_count": 51,
   "metadata": {},
   "outputs": [
    {
     "data": {
      "text/plain": [
       "45.09138298034668"
      ]
     },
     "execution_count": 51,
     "metadata": {},
     "output_type": "run_result"
    }
   ],
   "source": [
    "t0 = time.time()\n",
    "\n",
    "six = 2000\n",
    "eix = 3000\n",
    "\n",
    "fx_df = fishnet_gdf.iloc[six:eix].copy()\n",
    "\n",
    "fx_df['sqm_target'] = fx_df.apply(lambda x: get_data_apply(x, target_gdf), axis=1)\n",
    "\n",
    "time.time() - t0"
   ]
  },
  {
   "cell_type": "code",
   "execution_count": 16,
   "metadata": {},
   "outputs": [
    {
     "name": "stdout",
     "output_type": "stream",
     "text": [
      "73.43789410591125\n"
     ]
    }
   ],
   "source": [
    "n_grids = 1000\n",
    "chunks = [[i, i+n_grids] for i in range(0, fishnet_gdf.shape[0], n_grids)]\n",
    "\n",
    "t0 = time.time()\n",
    "\n",
    "l = []\n",
    "for i in chunks[:1]:\n",
    "    \n",
    "#     print(i)\n",
    "    \n",
    "    fx = fishnet_gdf.iloc[i[0]:i[1]].copy()\n",
    "    \n",
    "    df = getit(fx, target_gdf)\n",
    "    \n",
    "    l.append(df)\n",
    "    \n",
    "print(time.time() - t0)\n",
    "    "
   ]
  },
  {
   "cell_type": "code",
   "execution_count": 10,
   "metadata": {},
   "outputs": [
    {
     "data": {
      "text/plain": [
       "[         id                                           geometry  sqm_target\n",
       " 0   9307735  POLYGON ((697447.164 -227065.201, 698447.164 -...         0.0\n",
       " 1   9307736  POLYGON ((697447.164 -228065.201, 698447.164 -...         0.0\n",
       " 2   9307737  POLYGON ((697447.164 -229065.201, 698447.164 -...         0.0\n",
       " 3   9307738  POLYGON ((697447.164 -230065.201, 698447.164 -...         0.0\n",
       " 4   9307739  POLYGON ((697447.164 -231065.201, 698447.164 -...         0.0\n",
       " ..      ...                                                ...         ...\n",
       " 95  9307830  POLYGON ((697447.164 -322065.201, 698447.164 -...         0.0\n",
       " 96  9307831  POLYGON ((697447.164 -323065.201, 698447.164 -...         0.0\n",
       " 97  9307832  POLYGON ((697447.164 -324065.201, 698447.164 -...         0.0\n",
       " 98  9307833  POLYGON ((697447.164 -325065.201, 698447.164 -...         0.0\n",
       " 99  9307834  POLYGON ((697447.164 -326065.201, 698447.164 -...         0.0\n",
       " \n",
       " [100 rows x 3 columns],\n",
       "           id                                           geometry  sqm_target\n",
       " 100  9307835  POLYGON ((697447.164 -327065.201, 698447.164 -...         0.0\n",
       " 101  9307836  POLYGON ((697447.164 -328065.201, 698447.164 -...         0.0\n",
       " 102  9307837  POLYGON ((697447.164 -329065.201, 698447.164 -...         0.0\n",
       " 103  9307838  POLYGON ((697447.164 -330065.201, 698447.164 -...         0.0\n",
       " 104  9307839  POLYGON ((697447.164 -331065.201, 698447.164 -...         0.0\n",
       " ..       ...                                                ...         ...\n",
       " 195  9307930  POLYGON ((697447.164 -422065.201, 698447.164 -...         0.0\n",
       " 196  9307931  POLYGON ((697447.164 -423065.201, 698447.164 -...         0.0\n",
       " 197  9307932  POLYGON ((697447.164 -424065.201, 698447.164 -...         0.0\n",
       " 198  9307933  POLYGON ((697447.164 -425065.201, 698447.164 -...         0.0\n",
       " 199  9307934  POLYGON ((697447.164 -426065.201, 698447.164 -...         0.0\n",
       " \n",
       " [100 rows x 3 columns],\n",
       "           id                                           geometry  sqm_target\n",
       " 200  9307935  POLYGON ((697447.164 -427065.201, 698447.164 -...         0.0\n",
       " 201  9307936  POLYGON ((697447.164 -428065.201, 698447.164 -...         0.0\n",
       " 202  9307937  POLYGON ((697447.164 -429065.201, 698447.164 -...         0.0\n",
       " 203  9307938  POLYGON ((697447.164 -430065.201, 698447.164 -...         0.0\n",
       " 204  9307939  POLYGON ((697447.164 -431065.201, 698447.164 -...         0.0\n",
       " ..       ...                                                ...         ...\n",
       " 295  9308030  POLYGON ((697447.164 -522065.201, 698447.164 -...         0.0\n",
       " 296  9308031  POLYGON ((697447.164 -523065.201, 698447.164 -...         0.0\n",
       " 297  9308032  POLYGON ((697447.164 -524065.201, 698447.164 -...         0.0\n",
       " 298  9308033  POLYGON ((697447.164 -525065.201, 698447.164 -...         0.0\n",
       " 299  9308034  POLYGON ((697447.164 -526065.201, 698447.164 -...         0.0\n",
       " \n",
       " [100 rows x 3 columns]]"
      ]
     },
     "execution_count": 10,
     "metadata": {},
     "output_type": "run_result"
    }
   ],
   "source": [
    "l"
   ]
  },
  {
   "cell_type": "code",
   "execution_count": null,
   "metadata": {},
   "outputs": [],
   "source": []
  },
  {
   "cell_type": "code",
   "execution_count": null,
   "metadata": {},
   "outputs": [],
   "source": []
  },
  {
   "cell_type": "code",
   "execution_count": null,
   "metadata": {},
   "outputs": [],
   "source": []
  },
  {
   "cell_type": "code",
   "execution_count": null,
   "metadata": {},
   "outputs": [],
   "source": []
  },
  {
   "cell_type": "code",
   "execution_count": null,
   "metadata": {},
   "outputs": [],
   "source": []
  },
  {
   "cell_type": "code",
   "execution_count": 61,
   "metadata": {},
   "outputs": [
    {
     "name": "stderr",
     "output_type": "stream",
     "text": [
      "Process ForkPoolWorker-37:\n",
      "Process ForkPoolWorker-36:\n",
      "Process ForkPoolWorker-35:\n",
      "Process ForkPoolWorker-38:\n",
      "Process ForkPoolWorker-34:\n",
      "Process ForkPoolWorker-39:\n",
      "Traceback (most recent call last):\n",
      "Traceback (most recent call last):\n",
      "Traceback (most recent call last):\n",
      "Traceback (most recent call last):\n",
      "Traceback (most recent call last):\n",
      "  File \"/Library/Frameworks/Python.framework/Versions/3.6/lib/python3.6/multiprocessing/process.py\", line 258, in _bootstrap\n",
      "    self.run()\n",
      "Traceback (most recent call last):\n",
      "  File \"/Library/Frameworks/Python.framework/Versions/3.6/lib/python3.6/multiprocessing/process.py\", line 258, in _bootstrap\n",
      "    self.run()\n",
      "  File \"/Library/Frameworks/Python.framework/Versions/3.6/lib/python3.6/multiprocessing/process.py\", line 258, in _bootstrap\n",
      "    self.run()\n",
      "  File \"/Library/Frameworks/Python.framework/Versions/3.6/lib/python3.6/multiprocessing/process.py\", line 258, in _bootstrap\n",
      "    self.run()\n",
      "  File \"/Library/Frameworks/Python.framework/Versions/3.6/lib/python3.6/multiprocessing/process.py\", line 258, in _bootstrap\n",
      "    self.run()\n",
      "  File \"/Library/Frameworks/Python.framework/Versions/3.6/lib/python3.6/multiprocessing/process.py\", line 93, in run\n",
      "    self._target(*self._args, **self._kwargs)\n",
      "  File \"/Library/Frameworks/Python.framework/Versions/3.6/lib/python3.6/multiprocessing/process.py\", line 258, in _bootstrap\n",
      "    self.run()\n",
      "  File \"/Library/Frameworks/Python.framework/Versions/3.6/lib/python3.6/multiprocessing/process.py\", line 93, in run\n",
      "    self._target(*self._args, **self._kwargs)\n",
      "  File \"/Library/Frameworks/Python.framework/Versions/3.6/lib/python3.6/multiprocessing/process.py\", line 93, in run\n",
      "    self._target(*self._args, **self._kwargs)\n",
      "  File \"/Library/Frameworks/Python.framework/Versions/3.6/lib/python3.6/multiprocessing/process.py\", line 93, in run\n",
      "    self._target(*self._args, **self._kwargs)\n",
      "  File \"/Library/Frameworks/Python.framework/Versions/3.6/lib/python3.6/multiprocessing/process.py\", line 93, in run\n",
      "    self._target(*self._args, **self._kwargs)\n",
      "  File \"/Library/Frameworks/Python.framework/Versions/3.6/lib/python3.6/multiprocessing/pool.py\", line 108, in worker\n",
      "    task = get()\n",
      "  File \"/Library/Frameworks/Python.framework/Versions/3.6/lib/python3.6/multiprocessing/process.py\", line 93, in run\n",
      "    self._target(*self._args, **self._kwargs)\n",
      "  File \"/Library/Frameworks/Python.framework/Versions/3.6/lib/python3.6/multiprocessing/pool.py\", line 108, in worker\n",
      "    task = get()\n",
      "  File \"/Library/Frameworks/Python.framework/Versions/3.6/lib/python3.6/multiprocessing/pool.py\", line 108, in worker\n",
      "    task = get()\n",
      "  File \"/Library/Frameworks/Python.framework/Versions/3.6/lib/python3.6/multiprocessing/pool.py\", line 108, in worker\n",
      "    task = get()\n",
      "  File \"/Library/Frameworks/Python.framework/Versions/3.6/lib/python3.6/multiprocessing/pool.py\", line 108, in worker\n",
      "    task = get()\n",
      "  File \"/Library/Frameworks/Python.framework/Versions/3.6/lib/python3.6/multiprocessing/queues.py\", line 334, in get\n",
      "    with self._rlock:\n",
      "  File \"/Library/Frameworks/Python.framework/Versions/3.6/lib/python3.6/multiprocessing/pool.py\", line 108, in worker\n",
      "    task = get()\n",
      "  File \"/Library/Frameworks/Python.framework/Versions/3.6/lib/python3.6/multiprocessing/queues.py\", line 334, in get\n",
      "    with self._rlock:\n",
      "  File \"/Library/Frameworks/Python.framework/Versions/3.6/lib/python3.6/multiprocessing/queues.py\", line 334, in get\n",
      "    with self._rlock:\n",
      "  File \"/Library/Frameworks/Python.framework/Versions/3.6/lib/python3.6/multiprocessing/queues.py\", line 334, in get\n",
      "    with self._rlock:\n",
      "  File \"/Library/Frameworks/Python.framework/Versions/3.6/lib/python3.6/multiprocessing/queues.py\", line 334, in get\n",
      "    with self._rlock:\n",
      "  File \"/Library/Frameworks/Python.framework/Versions/3.6/lib/python3.6/multiprocessing/synchronize.py\", line 96, in __enter__\n",
      "    return self._semlock.__enter__()\n",
      "  File \"/Library/Frameworks/Python.framework/Versions/3.6/lib/python3.6/multiprocessing/queues.py\", line 335, in get\n",
      "    res = self._reader.recv_bytes()\n",
      "  File \"/Library/Frameworks/Python.framework/Versions/3.6/lib/python3.6/multiprocessing/synchronize.py\", line 96, in __enter__\n",
      "    return self._semlock.__enter__()\n"
     ]
    }
   ],
   "source": [
    "# count of CPU cores in our system\n",
    "n_cpus = mp.cpu_count()\n",
    "\n",
    "# create slice intervals for the number of fishnet polygons to process at one time\n",
    "n_grids = 100\n",
    "chunks = [[i, i+n_grids] for i in range(0, fishnet_gdf.shape[0], n_grids)]\n",
    "\n",
    "# construct a pool of processes where n processes == n_cores\n",
    "pool = mp.Pool(processes=n_cpus)\n",
    "\n",
    "chunk_processes = [pool.apply_async(getit, args=(fishnet_gdf.iloc[i[0]:i[1]].copy(), target_gdf)) for i in chunks[:3]]\n",
    "\n"
   ]
  },
  {
   "cell_type": "code",
   "execution_count": 62,
   "metadata": {},
   "outputs": [
    {
     "ename": "KeyboardInterrupt",
     "evalue": "",
     "output_type": "error",
     "traceback": [
      "\u001b[0;31m---------------------------------------------------------------------------\u001b[0m",
      "\u001b[0;31mKeyboardInterrupt\u001b[0m                         Traceback (most recent call last)",
      "\u001b[0;32m<ipython-input-62-83a75a0d51f9>\u001b[0m in \u001b[0;36m<module>\u001b[0;34m()\u001b[0m\n\u001b[0;32m----> 1\u001b[0;31m \u001b[0;34m[\u001b[0m\u001b[0mi\u001b[0m\u001b[0;34m.\u001b[0m\u001b[0mget\u001b[0m\u001b[0;34m(\u001b[0m\u001b[0;34m)\u001b[0m \u001b[0;32mfor\u001b[0m \u001b[0mi\u001b[0m \u001b[0;32min\u001b[0m \u001b[0mchunk_processes\u001b[0m\u001b[0;34m]\u001b[0m\u001b[0;34m\u001b[0m\u001b[0m\n\u001b[0m",
      "\u001b[0;32m<ipython-input-62-83a75a0d51f9>\u001b[0m in \u001b[0;36m<listcomp>\u001b[0;34m(.0)\u001b[0m\n\u001b[0;32m----> 1\u001b[0;31m \u001b[0;34m[\u001b[0m\u001b[0mi\u001b[0m\u001b[0;34m.\u001b[0m\u001b[0mget\u001b[0m\u001b[0;34m(\u001b[0m\u001b[0;34m)\u001b[0m \u001b[0;32mfor\u001b[0m \u001b[0mi\u001b[0m \u001b[0;32min\u001b[0m \u001b[0mchunk_processes\u001b[0m\u001b[0;34m]\u001b[0m\u001b[0;34m\u001b[0m\u001b[0m\n\u001b[0m",
      "\u001b[0;32m/Library/Frameworks/Python.framework/Versions/3.6/lib/python3.6/multiprocessing/pool.py\u001b[0m in \u001b[0;36mget\u001b[0;34m(self, timeout)\u001b[0m\n\u001b[1;32m    636\u001b[0m \u001b[0;34m\u001b[0m\u001b[0m\n\u001b[1;32m    637\u001b[0m     \u001b[0;32mdef\u001b[0m \u001b[0mget\u001b[0m\u001b[0;34m(\u001b[0m\u001b[0mself\u001b[0m\u001b[0;34m,\u001b[0m \u001b[0mtimeout\u001b[0m\u001b[0;34m=\u001b[0m\u001b[0;32mNone\u001b[0m\u001b[0;34m)\u001b[0m\u001b[0;34m:\u001b[0m\u001b[0;34m\u001b[0m\u001b[0m\n\u001b[0;32m--> 638\u001b[0;31m         \u001b[0mself\u001b[0m\u001b[0;34m.\u001b[0m\u001b[0mwait\u001b[0m\u001b[0;34m(\u001b[0m\u001b[0mtimeout\u001b[0m\u001b[0;34m)\u001b[0m\u001b[0;34m\u001b[0m\u001b[0m\n\u001b[0m\u001b[1;32m    639\u001b[0m         \u001b[0;32mif\u001b[0m \u001b[0;32mnot\u001b[0m \u001b[0mself\u001b[0m\u001b[0;34m.\u001b[0m\u001b[0mready\u001b[0m\u001b[0;34m(\u001b[0m\u001b[0;34m)\u001b[0m\u001b[0;34m:\u001b[0m\u001b[0;34m\u001b[0m\u001b[0m\n\u001b[1;32m    640\u001b[0m             \u001b[0;32mraise\u001b[0m \u001b[0mTimeoutError\u001b[0m\u001b[0;34m\u001b[0m\u001b[0m\n",
      "\u001b[0;32m/Library/Frameworks/Python.framework/Versions/3.6/lib/python3.6/multiprocessing/pool.py\u001b[0m in \u001b[0;36mwait\u001b[0;34m(self, timeout)\u001b[0m\n\u001b[1;32m    633\u001b[0m \u001b[0;34m\u001b[0m\u001b[0m\n\u001b[1;32m    634\u001b[0m     \u001b[0;32mdef\u001b[0m \u001b[0mwait\u001b[0m\u001b[0;34m(\u001b[0m\u001b[0mself\u001b[0m\u001b[0;34m,\u001b[0m \u001b[0mtimeout\u001b[0m\u001b[0;34m=\u001b[0m\u001b[0;32mNone\u001b[0m\u001b[0;34m)\u001b[0m\u001b[0;34m:\u001b[0m\u001b[0;34m\u001b[0m\u001b[0m\n\u001b[0;32m--> 635\u001b[0;31m         \u001b[0mself\u001b[0m\u001b[0;34m.\u001b[0m\u001b[0m_event\u001b[0m\u001b[0;34m.\u001b[0m\u001b[0mwait\u001b[0m\u001b[0;34m(\u001b[0m\u001b[0mtimeout\u001b[0m\u001b[0;34m)\u001b[0m\u001b[0;34m\u001b[0m\u001b[0m\n\u001b[0m\u001b[1;32m    636\u001b[0m \u001b[0;34m\u001b[0m\u001b[0m\n\u001b[1;32m    637\u001b[0m     \u001b[0;32mdef\u001b[0m \u001b[0mget\u001b[0m\u001b[0;34m(\u001b[0m\u001b[0mself\u001b[0m\u001b[0;34m,\u001b[0m \u001b[0mtimeout\u001b[0m\u001b[0;34m=\u001b[0m\u001b[0;32mNone\u001b[0m\u001b[0;34m)\u001b[0m\u001b[0;34m:\u001b[0m\u001b[0;34m\u001b[0m\u001b[0m\n",
      "\u001b[0;32m/Library/Frameworks/Python.framework/Versions/3.6/lib/python3.6/threading.py\u001b[0m in \u001b[0;36mwait\u001b[0;34m(self, timeout)\u001b[0m\n\u001b[1;32m    549\u001b[0m             \u001b[0msignaled\u001b[0m \u001b[0;34m=\u001b[0m \u001b[0mself\u001b[0m\u001b[0;34m.\u001b[0m\u001b[0m_flag\u001b[0m\u001b[0;34m\u001b[0m\u001b[0m\n\u001b[1;32m    550\u001b[0m             \u001b[0;32mif\u001b[0m \u001b[0;32mnot\u001b[0m \u001b[0msignaled\u001b[0m\u001b[0;34m:\u001b[0m\u001b[0;34m\u001b[0m\u001b[0m\n\u001b[0;32m--> 551\u001b[0;31m                 \u001b[0msignaled\u001b[0m \u001b[0;34m=\u001b[0m \u001b[0mself\u001b[0m\u001b[0;34m.\u001b[0m\u001b[0m_cond\u001b[0m\u001b[0;34m.\u001b[0m\u001b[0mwait\u001b[0m\u001b[0;34m(\u001b[0m\u001b[0mtimeout\u001b[0m\u001b[0;34m)\u001b[0m\u001b[0;34m\u001b[0m\u001b[0m\n\u001b[0m\u001b[1;32m    552\u001b[0m             \u001b[0;32mreturn\u001b[0m \u001b[0msignaled\u001b[0m\u001b[0;34m\u001b[0m\u001b[0m\n\u001b[1;32m    553\u001b[0m \u001b[0;34m\u001b[0m\u001b[0m\n",
      "\u001b[0;32m/Library/Frameworks/Python.framework/Versions/3.6/lib/python3.6/threading.py\u001b[0m in \u001b[0;36mwait\u001b[0;34m(self, timeout)\u001b[0m\n\u001b[1;32m    293\u001b[0m         \u001b[0;32mtry\u001b[0m\u001b[0;34m:\u001b[0m    \u001b[0;31m# restore state no matter what (e.g., KeyboardInterrupt)\u001b[0m\u001b[0;34m\u001b[0m\u001b[0m\n\u001b[1;32m    294\u001b[0m             \u001b[0;32mif\u001b[0m \u001b[0mtimeout\u001b[0m \u001b[0;32mis\u001b[0m \u001b[0;32mNone\u001b[0m\u001b[0;34m:\u001b[0m\u001b[0;34m\u001b[0m\u001b[0m\n\u001b[0;32m--> 295\u001b[0;31m                 \u001b[0mwaiter\u001b[0m\u001b[0;34m.\u001b[0m\u001b[0macquire\u001b[0m\u001b[0;34m(\u001b[0m\u001b[0;34m)\u001b[0m\u001b[0;34m\u001b[0m\u001b[0m\n\u001b[0m\u001b[1;32m    296\u001b[0m                 \u001b[0mgotit\u001b[0m \u001b[0;34m=\u001b[0m \u001b[0;32mTrue\u001b[0m\u001b[0;34m\u001b[0m\u001b[0m\n\u001b[1;32m    297\u001b[0m             \u001b[0;32melse\u001b[0m\u001b[0;34m:\u001b[0m\u001b[0;34m\u001b[0m\u001b[0m\n",
      "\u001b[0;31mKeyboardInterrupt\u001b[0m: "
     ]
    }
   ],
   "source": [
    "[i.get() for i in chunk_processes]"
   ]
  },
  {
   "cell_type": "code",
   "execution_count": null,
   "metadata": {},
   "outputs": [],
   "source": []
  }
 ],
 "metadata": {
  "kernelspec": {
   "display_name": "Python 3",
   "language": "python",
   "name": "python3"
  },
  "language_info": {
   "codemirror_mode": {
    "name": "ipython",
    "version": 3
   },
   "file_extension": ".py",
   "mimetype": "text/x-python",
   "name": "python",
   "nbconvert_exporter": "python",
   "pygments_lexer": "ipython3",
   "version": "3.9.4"
  }
 },
 "nbformat": 4,
 "nbformat_minor": 4
}
